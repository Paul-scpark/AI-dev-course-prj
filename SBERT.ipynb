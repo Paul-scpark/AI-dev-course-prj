{
 "cells": [
  {
   "cell_type": "code",
   "execution_count": 1,
   "id": "da45baa0",
   "metadata": {},
   "outputs": [],
   "source": [
    "import pandas as pd\n",
    "import numpy as np\n",
    "import torch\n",
    "import random\n",
    "from sentence_transformers import SentenceTransformer, util"
   ]
  },
  {
   "cell_type": "code",
   "execution_count": 2,
   "id": "2cec6a23",
   "metadata": {},
   "outputs": [],
   "source": [
    "# !conda install -c conda-forge ipywidgets\n"
   ]
  },
  {
   "cell_type": "code",
   "execution_count": 3,
   "id": "00f9e01f",
   "metadata": {},
   "outputs": [
    {
     "name": "stdout",
     "output_type": "stream",
     "text": [
      "(127051, 8)\n"
     ]
    }
   ],
   "source": [
    "pre_data = pd.read_csv(\"../data/total_data.csv\")\n",
    "print(pre_data.shape)\n"
   ]
  },
  {
   "cell_type": "code",
   "execution_count": 4,
   "id": "ed79a09f",
   "metadata": {},
   "outputs": [
    {
     "name": "stdout",
     "output_type": "stream",
     "text": [
      "127051 94805\n"
     ]
    }
   ],
   "source": [
    "#remove duplicates by url, reindex\n",
    "data = pre_data.drop_duplicates(subset='url', keep=\"first\") #keep first or last\n",
    "data.index = np.arange(len(data))\n",
    "\n",
    "\n",
    "print(len(pre_data),len(data)) \n"
   ]
  },
  {
   "cell_type": "code",
   "execution_count": 5,
   "id": "74b6d7df",
   "metadata": {},
   "outputs": [
    {
     "data": {
      "text/html": [
       "<div>\n",
       "<style scoped>\n",
       "    .dataframe tbody tr th:only-of-type {\n",
       "        vertical-align: middle;\n",
       "    }\n",
       "\n",
       "    .dataframe tbody tr th {\n",
       "        vertical-align: top;\n",
       "    }\n",
       "\n",
       "    .dataframe thead th {\n",
       "        text-align: right;\n",
       "    }\n",
       "</style>\n",
       "<table border=\"1\" class=\"dataframe\">\n",
       "  <thead>\n",
       "    <tr style=\"text-align: right;\">\n",
       "      <th></th>\n",
       "      <th>title</th>\n",
       "      <th>description</th>\n",
       "      <th>url</th>\n",
       "      <th>data_type</th>\n",
       "      <th>source</th>\n",
       "      <th>ori_label</th>\n",
       "      <th>ori_source</th>\n",
       "      <th>label</th>\n",
       "    </tr>\n",
       "  </thead>\n",
       "  <tbody>\n",
       "    <tr>\n",
       "      <th>0</th>\n",
       "      <td>충청남도 당진시_산업단지 입주기업 현황_20220304</td>\n",
       "      <td>충청남도 당진시 산업단지 입주 기업 현황입니다.(연번, 단지명, 회사명, 업종명, ...</td>\n",
       "      <td>https://www.data.go.kr/data/15106898/fileData.do</td>\n",
       "      <td>텍스트</td>\n",
       "      <td>충청남도 당진시</td>\n",
       "      <td>산업·통상·중소기업</td>\n",
       "      <td>공공데이터포털</td>\n",
       "      <td>제조소비</td>\n",
       "    </tr>\n",
       "    <tr>\n",
       "      <th>1</th>\n",
       "      <td>전라남도 강진군_미곡처리장현황_20221006</td>\n",
       "      <td>전라남도 강진군 미곡처리장 현황에 대한 데이터로소 시군, 명칭, 소재지, 관리부서,...</td>\n",
       "      <td>https://www.data.go.kr/data/15106993/fileData.do</td>\n",
       "      <td>텍스트</td>\n",
       "      <td>전라남도 강진군</td>\n",
       "      <td>농림</td>\n",
       "      <td>공공데이터포털</td>\n",
       "      <td>식품건강</td>\n",
       "    </tr>\n",
       "    <tr>\n",
       "      <th>2</th>\n",
       "      <td>경상남도 거창군_월별 코로나 확진자 현황_20221007</td>\n",
       "      <td>경상남도 거창군 월별 코로나19 관련 확진자 및 사망자 수 현황 데이터로 월별 확진...</td>\n",
       "      <td>https://www.data.go.kr/data/15098865/fileData.do</td>\n",
       "      <td>텍스트</td>\n",
       "      <td>경상남도 거창군</td>\n",
       "      <td>보건</td>\n",
       "      <td>공공데이터포털</td>\n",
       "      <td>보건의료</td>\n",
       "    </tr>\n",
       "    <tr>\n",
       "      <th>3</th>\n",
       "      <td>충청남도 부여군_1인당지방세부담액_20221006</td>\n",
       "      <td>상기 데이터는 연도별 주민 1인당 또는 세대 당 부담된  지방세액에 대한 정보로 조...</td>\n",
       "      <td>https://www.data.go.kr/data/15080007/fileData.do</td>\n",
       "      <td>텍스트</td>\n",
       "      <td>충청남도 부여군</td>\n",
       "      <td>재정·세제·금융</td>\n",
       "      <td>공공데이터포털</td>\n",
       "      <td>경제금융</td>\n",
       "    </tr>\n",
       "    <tr>\n",
       "      <th>4</th>\n",
       "      <td>전라남도 보성군_담배소매인지정현황_20221006</td>\n",
       "      <td>전라남도 보성군 담배소매인지정현황에 관한 공공데이터로 업소명, 지번주소, 도로명주소...</td>\n",
       "      <td>https://www.data.go.kr/data/15035564/fileData.do</td>\n",
       "      <td>텍스트</td>\n",
       "      <td>전라남도 보성군</td>\n",
       "      <td>일반공공행정</td>\n",
       "      <td>공공데이터포털</td>\n",
       "      <td>행정법률</td>\n",
       "    </tr>\n",
       "    <tr>\n",
       "      <th>...</th>\n",
       "      <td>...</td>\n",
       "      <td>...</td>\n",
       "      <td>...</td>\n",
       "      <td>...</td>\n",
       "      <td>...</td>\n",
       "      <td>...</td>\n",
       "      <td>...</td>\n",
       "      <td>...</td>\n",
       "    </tr>\n",
       "    <tr>\n",
       "      <th>94800</th>\n",
       "      <td>서울시 구로구 식품첨가물제조업 인허가 정보</td>\n",
       "      <td>구로구의 식품을 제조 또는 가공할 때 기호가치를 향상시키거나 영양가치를 높일목적의 ...</td>\n",
       "      <td>https://data.seoul.go.kr/dataList/OA-18293/S/1...</td>\n",
       "      <td>SHEET,OpenAPI</td>\n",
       "      <td>구로구 스마트도시정책관 빅데이터담당관</td>\n",
       "      <td>보건</td>\n",
       "      <td>서울데이터광장</td>\n",
       "      <td>보건의료</td>\n",
       "    </tr>\n",
       "    <tr>\n",
       "      <th>94801</th>\n",
       "      <td>서울시 송파구 국제회의시설업 인허가 정보</td>\n",
       "      <td>송파구의 컨벤션센터 등 대규모 관광 수요를 유발하는 국제회의를 개최할 수 있는 시설...</td>\n",
       "      <td>https://data.seoul.go.kr/dataList/OA-16990/S/1...</td>\n",
       "      <td>SHEET,OpenAPI</td>\n",
       "      <td>송파구 스마트도시정책관 빅데이터담당관</td>\n",
       "      <td>문화/관광</td>\n",
       "      <td>서울데이터광장</td>\n",
       "      <td>문화관광</td>\n",
       "    </tr>\n",
       "    <tr>\n",
       "      <th>94802</th>\n",
       "      <td>서울시 중구 국제회의시설업 인허가 정보</td>\n",
       "      <td>중구의 컨벤션센터 등 대규모 관광 수요를 유발하는 국제회의를 개최할 수 있는 시설을...</td>\n",
       "      <td>https://data.seoul.go.kr/dataList/OA-16968/S/1...</td>\n",
       "      <td>SHEET,OpenAPI</td>\n",
       "      <td>중구 스마트도시정책관 빅데이터담당관</td>\n",
       "      <td>문화/관광</td>\n",
       "      <td>서울데이터광장</td>\n",
       "      <td>문화관광</td>\n",
       "    </tr>\n",
       "    <tr>\n",
       "      <th>94803</th>\n",
       "      <td>서울시 강남구 국제회의시설업 인허가 정보</td>\n",
       "      <td>강남구의 컨벤션센터 등 대규모 관광 수요를 유발하는 국제회의를 개최할 수 있는 시설...</td>\n",
       "      <td>https://data.seoul.go.kr/dataList/OA-16989/S/1...</td>\n",
       "      <td>SHEET,OpenAPI</td>\n",
       "      <td>강남구 스마트도시정책관 빅데이터담당관</td>\n",
       "      <td>문화/관광</td>\n",
       "      <td>서울데이터광장</td>\n",
       "      <td>문화관광</td>\n",
       "    </tr>\n",
       "    <tr>\n",
       "      <th>94804</th>\n",
       "      <td>서울시 송파구 비디오물시청제공업 인허가 정보</td>\n",
       "      <td>송파구의 숙박 및 휴게 등의 목적으로 이용하는 장소 또는 시설에서 비디오물 시청기자...</td>\n",
       "      <td>https://data.seoul.go.kr/dataList/OA-17365/S/1...</td>\n",
       "      <td>SHEET,OpenAPI</td>\n",
       "      <td>송파구 스마트도시정책관 빅데이터담당관</td>\n",
       "      <td>문화/관광</td>\n",
       "      <td>서울데이터광장</td>\n",
       "      <td>문화관광</td>\n",
       "    </tr>\n",
       "  </tbody>\n",
       "</table>\n",
       "<p>94805 rows × 8 columns</p>\n",
       "</div>"
      ],
      "text/plain": [
       "                                 title  \\\n",
       "0       충청남도 당진시_산업단지 입주기업 현황_20220304   \n",
       "1            전라남도 강진군_미곡처리장현황_20221006   \n",
       "2      경상남도 거창군_월별 코로나 확진자 현황_20221007   \n",
       "3          충청남도 부여군_1인당지방세부담액_20221006   \n",
       "4          전라남도 보성군_담배소매인지정현황_20221006   \n",
       "...                                ...   \n",
       "94800          서울시 구로구 식품첨가물제조업 인허가 정보   \n",
       "94801           서울시 송파구 국제회의시설업 인허가 정보   \n",
       "94802            서울시 중구 국제회의시설업 인허가 정보   \n",
       "94803           서울시 강남구 국제회의시설업 인허가 정보   \n",
       "94804         서울시 송파구 비디오물시청제공업 인허가 정보   \n",
       "\n",
       "                                             description  \\\n",
       "0      충청남도 당진시 산업단지 입주 기업 현황입니다.(연번, 단지명, 회사명, 업종명, ...   \n",
       "1      전라남도 강진군 미곡처리장 현황에 대한 데이터로소 시군, 명칭, 소재지, 관리부서,...   \n",
       "2      경상남도 거창군 월별 코로나19 관련 확진자 및 사망자 수 현황 데이터로 월별 확진...   \n",
       "3      상기 데이터는 연도별 주민 1인당 또는 세대 당 부담된  지방세액에 대한 정보로 조...   \n",
       "4      전라남도 보성군 담배소매인지정현황에 관한 공공데이터로 업소명, 지번주소, 도로명주소...   \n",
       "...                                                  ...   \n",
       "94800  구로구의 식품을 제조 또는 가공할 때 기호가치를 향상시키거나 영양가치를 높일목적의 ...   \n",
       "94801  송파구의 컨벤션센터 등 대규모 관광 수요를 유발하는 국제회의를 개최할 수 있는 시설...   \n",
       "94802  중구의 컨벤션센터 등 대규모 관광 수요를 유발하는 국제회의를 개최할 수 있는 시설을...   \n",
       "94803  강남구의 컨벤션센터 등 대규모 관광 수요를 유발하는 국제회의를 개최할 수 있는 시설...   \n",
       "94804  송파구의 숙박 및 휴게 등의 목적으로 이용하는 장소 또는 시설에서 비디오물 시청기자...   \n",
       "\n",
       "                                                     url      data_type  \\\n",
       "0       https://www.data.go.kr/data/15106898/fileData.do            텍스트   \n",
       "1       https://www.data.go.kr/data/15106993/fileData.do            텍스트   \n",
       "2       https://www.data.go.kr/data/15098865/fileData.do            텍스트   \n",
       "3       https://www.data.go.kr/data/15080007/fileData.do            텍스트   \n",
       "4       https://www.data.go.kr/data/15035564/fileData.do            텍스트   \n",
       "...                                                  ...            ...   \n",
       "94800  https://data.seoul.go.kr/dataList/OA-18293/S/1...  SHEET,OpenAPI   \n",
       "94801  https://data.seoul.go.kr/dataList/OA-16990/S/1...  SHEET,OpenAPI   \n",
       "94802  https://data.seoul.go.kr/dataList/OA-16968/S/1...  SHEET,OpenAPI   \n",
       "94803  https://data.seoul.go.kr/dataList/OA-16989/S/1...  SHEET,OpenAPI   \n",
       "94804  https://data.seoul.go.kr/dataList/OA-17365/S/1...  SHEET,OpenAPI   \n",
       "\n",
       "                     source   ori_label ori_source label  \n",
       "0                  충청남도 당진시  산업·통상·중소기업    공공데이터포털  제조소비  \n",
       "1                  전라남도 강진군          농림    공공데이터포털  식품건강  \n",
       "2                  경상남도 거창군          보건    공공데이터포털  보건의료  \n",
       "3                  충청남도 부여군    재정·세제·금융    공공데이터포털  경제금융  \n",
       "4                  전라남도 보성군      일반공공행정    공공데이터포털  행정법률  \n",
       "...                     ...         ...        ...   ...  \n",
       "94800  구로구 스마트도시정책관 빅데이터담당관          보건    서울데이터광장  보건의료  \n",
       "94801  송파구 스마트도시정책관 빅데이터담당관       문화/관광    서울데이터광장  문화관광  \n",
       "94802   중구 스마트도시정책관 빅데이터담당관       문화/관광    서울데이터광장  문화관광  \n",
       "94803  강남구 스마트도시정책관 빅데이터담당관       문화/관광    서울데이터광장  문화관광  \n",
       "94804  송파구 스마트도시정책관 빅데이터담당관       문화/관광    서울데이터광장  문화관광  \n",
       "\n",
       "[94805 rows x 8 columns]"
      ]
     },
     "execution_count": 5,
     "metadata": {},
     "output_type": "execute_result"
    }
   ],
   "source": [
    "data"
   ]
  },
  {
   "cell_type": "code",
   "execution_count": 6,
   "id": "ee5c87d4",
   "metadata": {},
   "outputs": [],
   "source": [
    "#load description sbert model\n",
    "sents = data['description']\n",
    "#[print(sents[i], \"\\n\") for i in range(5)]\n",
    "sbert = SentenceTransformer('snunlp/KR-SBERT-V40K-klueNLI-augSTS')"
   ]
  },
  {
   "cell_type": "markdown",
   "id": "9e628b56",
   "metadata": {},
   "source": [
    "### Sample "
   ]
  },
  {
   "cell_type": "code",
   "execution_count": 7,
   "id": "e395eab1",
   "metadata": {},
   "outputs": [
    {
     "data": {
      "text/plain": [
       "768"
      ]
     },
     "execution_count": 7,
     "metadata": {},
     "output_type": "execute_result"
    }
   ],
   "source": [
    "sample = sbert.encode(sents[:5])\n",
    "len(sample[0])"
   ]
  },
  {
   "cell_type": "code",
   "execution_count": 8,
   "id": "5e133a67",
   "metadata": {},
   "outputs": [],
   "source": [
    "snubert_sample_tensor = torch.tensor(sample)\n",
    "torch.save(snubert_sample_tensor, '../data/snubert_sample_tensor.pt')\n"
   ]
  },
  {
   "cell_type": "code",
   "execution_count": 9,
   "id": "b70ac569",
   "metadata": {},
   "outputs": [
    {
     "data": {
      "text/plain": [
       "tensor([[-0.6379, -0.4988, -0.4288,  ...,  0.6085,  0.3506,  0.7135],\n",
       "        [ 0.3231,  0.2048, -0.2758,  ...,  0.5903,  0.4753, -0.3940],\n",
       "        [ 0.4405, -0.6636,  0.3967,  ..., -0.2820, -0.8777,  0.2145]])"
      ]
     },
     "execution_count": 9,
     "metadata": {},
     "output_type": "execute_result"
    }
   ],
   "source": [
    "#selecting tensor values (if needed)\n",
    "snubert_sample_tensor.index_select(0, torch.tensor(np.arange(3)))"
   ]
  },
  {
   "cell_type": "code",
   "execution_count": 10,
   "id": "8987a838",
   "metadata": {},
   "outputs": [
    {
     "data": {
      "text/plain": [
       "torch.return_types.sort(\n",
       "values=tensor([[1.0000, 0.4430, 0.4085, 0.3700, 0.3513]]),\n",
       "indices=tensor([[2, 3, 1, 0, 4]]))"
      ]
     },
     "execution_count": 10,
     "metadata": {},
     "output_type": "execute_result"
    }
   ],
   "source": [
    "index_rand = 2\n",
    "similarity_sample = util.cos_sim(sample[index_rand] , snubert_sample_tensor).sort(descending=True)\n",
    "similarity_sample"
   ]
  },
  {
   "cell_type": "code",
   "execution_count": 11,
   "id": "cafa623a",
   "metadata": {},
   "outputs": [
    {
     "data": {
      "text/plain": [
       "tensor([0.4430, 0.4085, 0.3700, 0.3513])"
      ]
     },
     "execution_count": 11,
     "metadata": {},
     "output_type": "execute_result"
    }
   ],
   "source": [
    "similarity_sample.values[0][1:5]"
   ]
  },
  {
   "cell_type": "markdown",
   "id": "72a7a1a9",
   "metadata": {},
   "source": [
    "### Actual Data"
   ]
  },
  {
   "cell_type": "code",
   "execution_count": 12,
   "id": "5ea0d825",
   "metadata": {},
   "outputs": [],
   "source": [
    "n,k = len(data), 5 #n=94805\n",
    "index_rand = 2\n",
    "\n",
    "#make and save tensor\n",
    "snubert_des = sbert.encode(sents)\n",
    "snubert_des_tensor = torch.tensor(snubert_des)\n",
    "torch.save(snubert_des_tensor, '../data/snubert_des_tensor_2.pt')\n",
    "\n",
    "\n"
   ]
  },
  {
   "cell_type": "code",
   "execution_count": 13,
   "id": "0defb17a",
   "metadata": {},
   "outputs": [
    {
     "data": {
      "text/plain": [
       "torch.return_types.sort(\n",
       "values=tensor([[ 1.0000,  0.7405,  0.7179,  ..., -0.0459, -0.0498, -0.0547]]),\n",
       "indices=tensor([[    2,  7638, 19255,  ..., 42052, 55205, 74683]]))"
      ]
     },
     "execution_count": 13,
     "metadata": {},
     "output_type": "execute_result"
    }
   ],
   "source": [
    "similarity = util.cos_sim(snubert_des[index_rand] , snubert_des_tensor).sort(descending=True)\n",
    "similarity"
   ]
  },
  {
   "cell_type": "code",
   "execution_count": 14,
   "id": "a0b2d24e",
   "metadata": {},
   "outputs": [],
   "source": [
    "len(similarity.values[0])\n",
    "id_ls = similarity.indices[0].tolist() #[1,k+1]"
   ]
  },
  {
   "cell_type": "code",
   "execution_count": 15,
   "id": "d5c39d4c",
   "metadata": {},
   "outputs": [
    {
     "data": {
      "text/plain": [
       "'경상남도 거창군_월별 코로나 확진자 현황_20221007'"
      ]
     },
     "execution_count": 15,
     "metadata": {},
     "output_type": "execute_result"
    }
   ],
   "source": [
    "data.iloc[index_rand]['title']"
   ]
  },
  {
   "cell_type": "code",
   "execution_count": 16,
   "id": "3f164a43",
   "metadata": {},
   "outputs": [
    {
     "data": {
      "text/plain": [
       "[7638, 19255, 21080, 5286, 19140]"
      ]
     },
     "execution_count": 16,
     "metadata": {},
     "output_type": "execute_result"
    }
   ],
   "source": [
    "id_ls[1:k+1]"
   ]
  },
  {
   "cell_type": "code",
   "execution_count": 17,
   "id": "2b3c88f7",
   "metadata": {},
   "outputs": [
    {
     "name": "stdout",
     "output_type": "stream",
     "text": [
      "경상남도 창녕군_코로나19 현황_20220823\n",
      "경상남도 함양군_코로나19 확진자 및 사망자 현황_20220228\n",
      "경상남도 양산시_코로나19 확진자 및 사망자 데이터_20220204\n",
      "경상남도 밀양시_코로나19 감염자 및 사망자 수_20220905\n",
      "경상남도 남해군_코로나확진자_20220331\n"
     ]
    }
   ],
   "source": [
    "for id in id_ls[1:k+1] :\n",
    "    print(data.iloc[id]['title'])"
   ]
  },
  {
   "cell_type": "code",
   "execution_count": 18,
   "id": "aef58141",
   "metadata": {},
   "outputs": [
    {
     "name": "stdout",
     "output_type": "stream",
     "text": [
      "경상남도 창녕군_코로나19 현황_20220823\n",
      "경상남도 함양군_코로나19 확진자 및 사망자 현황_20220228\n",
      "경상남도 양산시_코로나19 확진자 및 사망자 데이터_20220204\n",
      "경상남도 밀양시_코로나19 감염자 및 사망자 수_20220905\n",
      "경상남도 남해군_코로나확진자_20220331\n",
      "전라북도 순창군_코로나 19 확진자 및 사망자 현황_20220401\n",
      "경상남도_거창군_행정마을별세대인구수_20220630\n",
      "경상남도 거창군_관광객수_20220228\n",
      "경상남도 통영시_코로나19 확진자 및 사망자 데이터_20221005\n",
      "경상남도 진주시_코로나19 확진자수 현황_20220228\n"
     ]
    }
   ],
   "source": [
    "for id in id_ls[1:11] :\n",
    "    print(data.iloc[id]['title'])"
   ]
  },
  {
   "cell_type": "code",
   "execution_count": 30,
   "id": "07889140",
   "metadata": {},
   "outputs": [
    {
     "data": {
      "text/plain": [
       "'대전광역시_환경 분쟁 조정 현황'"
      ]
     },
     "execution_count": 30,
     "metadata": {},
     "output_type": "execute_result"
    }
   ],
   "source": [
    "data.iloc[77401]['title']"
   ]
  },
  {
   "cell_type": "code",
   "execution_count": 28,
   "id": "f001baaa",
   "metadata": {},
   "outputs": [
    {
     "name": "stdout",
     "output_type": "stream",
     "text": [
      "환경부 화학물질안전원_화학 사고 정보_20220531\n",
      "충청남도_민원현황_20220731\n",
      "울산시설공단_민원처리현황_20220831\n",
      "한국남동발전㈜_환경관련 민원사항 현황_12/31/2020\n",
      "대전광역시_국민신문고 접수 처리현황(민원분야)_20220731\n",
      "환경부 화학물질안전원_화학사고정보\n",
      "대전광역시 동구_대기배출시설 사업장 현황_20220803\n",
      "대전광역시 유성구_대기배출사업장_20220405\n",
      "서울시 환경분쟁조정 사건 진행 현황\n",
      "서울특별시_환경분쟁조정 사건 진행 현황\n"
     ]
    }
   ],
   "source": [
    "# 중복 데이터 관련\n",
    "# https://github.com/Paul-scpark/AI-dev-course-prj/issues/24\n",
    "sim_dupe = util.cos_sim(snubert_des[77401], snubert_des_tensor).sort(descending=True)\n",
    "sim_dupe\n",
    "id_ls = sim_dupe.indices[0].tolist() #[1,k+1]\n",
    "\n",
    "for id in id_ls[1:11] :\n",
    "    print(data.iloc[id]['title'])"
   ]
  },
  {
   "cell_type": "code",
   "execution_count": 31,
   "id": "db489daf",
   "metadata": {},
   "outputs": [
    {
     "name": "stdout",
     "output_type": "stream",
     "text": [
      "경찰청 경상남도경찰청_자동차 운전면허 학원 현황_20220630\n"
     ]
    }
   ],
   "source": [
    "print(data.iloc[10101]['title'])\n"
   ]
  },
  {
   "cell_type": "code",
   "execution_count": 33,
   "id": "98d49be6",
   "metadata": {},
   "outputs": [
    {
     "name": "stdout",
     "output_type": "stream",
     "text": [
      "경찰청 부산광역시경찰청_자동차운전학원 현황_20211231\n",
      "경찰청 전라북도경찰청_자동차 운전전문학원 현황_20211231\n",
      "경찰청 충청북도경찰청_운전면허 학원 현황_20220630\n",
      "경찰청 경상북도경찰청_자동차운전학원현황_20220825\n",
      "경찰청 충청남도경찰청_운전면허 학원 현황_20220615\n",
      "경찰청_자동차 운전전문학원 현황_12/31/2020\n",
      "경찰청 강원도경찰청_자동차 운전전문학원 현황_20211231\n",
      "경기도_용인시_자동차대여업(렌터카)현황_20141231\n",
      "경상남도_의령군_자동차정비업체\n",
      "경기도 용인시_자동차 등록 정보\n",
      "경상북도교육청 경상북도울진교육지원청_학원 및 교습소 현황_20211207\n",
      "충청남도_자동차관리사업체(전문정비업) 현황정보_20220801\n",
      "한국교통안전공단_2021년 튜닝 교육 및 컨설팅 시행 횟수 현황_20211231\n",
      "경찰청 대구광역시경찰청_자동차운전전문학원 현황_20220526\n",
      "도로교통공단_자동차 운전전문학원용 자격증 발급현황_20181128\n",
      "전라북도_자동차정기검사지정업체 현황_20190925\n",
      "경찰청 광주광역시경찰청_자동차운전 전문학원 교육성과\n",
      "전라북도_자동차 종합검사 지정업체 현황_20200930\n",
      "충청남도_자동차관리사업체(소형정비업) 현황 정보_10/27/2021\n",
      "경상북도영양교육지원청 학원 및 교습소 현황(2016)\n",
      "경상북도영양교육지원청 학원 및 교습소 현황(6월 21일자)\n",
      "서울특별시_강남구_연료별자동차등록현황_20220628\n",
      "충청북도 괴산군_렌터카업체정보\n",
      "국토교통부_자동차 등록 현황\n",
      "경상북도영양교육지원청_학원교습소등록현황_20180701\n",
      "충청남도_자동차관리사업체(원동기정비업) 현황정보_20201130\n",
      "군위교육지원청 학원현황(2018년)\n",
      "제주특별자치도교육청_학교 통학버스 운영 현황_20210901\n",
      "강원도_춘천시_자동차 등록현황_20220620\n"
     ]
    }
   ],
   "source": [
    "similarity = util.cos_sim(snubert_des[10101] , snubert_des_tensor).sort(descending=True)\n",
    "id_ls = similarity.indices[0].tolist() #[1,k+1]\n",
    "\n",
    "\n",
    "for id in id_ls[1:30] :\n",
    "    print(data.iloc[id]['title'])"
   ]
  }
 ],
 "metadata": {
  "kernelspec": {
   "display_name": "Python 3 (ipykernel)",
   "language": "python",
   "name": "python3"
  },
  "language_info": {
   "codemirror_mode": {
    "name": "ipython",
    "version": 3
   },
   "file_extension": ".py",
   "mimetype": "text/x-python",
   "name": "python",
   "nbconvert_exporter": "python",
   "pygments_lexer": "ipython3",
   "version": "3.8.5"
  }
 },
 "nbformat": 4,
 "nbformat_minor": 5
}

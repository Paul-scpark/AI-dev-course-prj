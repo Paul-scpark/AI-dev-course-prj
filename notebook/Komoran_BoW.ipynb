{
 "cells": [
  {
   "cell_type": "code",
   "execution_count": 1,
   "id": "1f4bc623",
   "metadata": {},
   "outputs": [],
   "source": [
    "import pandas as pd\n",
    "import numpy as np\n",
    "import tensorflow as tf\n",
    "import matplotlib\n",
    "import matplotlib.pyplot as plt\n",
    "import seaborn as sns\n",
    "\n",
    "from collections import Counter\n",
    "from sklearn.model_selection import train_test_split\n",
    "\n",
    "from konlpy.tag import Komoran"
   ]
  },
  {
   "cell_type": "code",
   "execution_count": 24,
   "id": "de3060ae",
   "metadata": {},
   "outputs": [],
   "source": [
    "data = pd.read_csv('../data/total_data.csv', encoding='UTF8')"
   ]
  },
  {
   "cell_type": "code",
   "execution_count": 25,
   "id": "0f057f38",
   "metadata": {
    "scrolled": true
   },
   "outputs": [
    {
     "data": {
      "text/html": [
       "<div>\n",
       "<style scoped>\n",
       "    .dataframe tbody tr th:only-of-type {\n",
       "        vertical-align: middle;\n",
       "    }\n",
       "\n",
       "    .dataframe tbody tr th {\n",
       "        vertical-align: top;\n",
       "    }\n",
       "\n",
       "    .dataframe thead th {\n",
       "        text-align: right;\n",
       "    }\n",
       "</style>\n",
       "<table border=\"1\" class=\"dataframe\">\n",
       "  <thead>\n",
       "    <tr style=\"text-align: right;\">\n",
       "      <th></th>\n",
       "      <th>title</th>\n",
       "      <th>description</th>\n",
       "      <th>url</th>\n",
       "      <th>data_type</th>\n",
       "      <th>source</th>\n",
       "      <th>ori_label</th>\n",
       "      <th>ori_source</th>\n",
       "      <th>label</th>\n",
       "    </tr>\n",
       "  </thead>\n",
       "  <tbody>\n",
       "    <tr>\n",
       "      <th>0</th>\n",
       "      <td>충청남도 당진시_산업단지 입주기업 현황_20220304</td>\n",
       "      <td>충청남도 당진시 산업단지 입주 기업 현황입니다.(연번, 단지명, 회사명, 업종명, ...</td>\n",
       "      <td>https://www.data.go.kr/data/15106898/fileData.do</td>\n",
       "      <td>텍스트</td>\n",
       "      <td>충청남도 당진시</td>\n",
       "      <td>산업·통상·중소기업</td>\n",
       "      <td>공공데이터포털</td>\n",
       "      <td>제조소비</td>\n",
       "    </tr>\n",
       "    <tr>\n",
       "      <th>1</th>\n",
       "      <td>전라남도 강진군_미곡처리장현황_20221006</td>\n",
       "      <td>전라남도 강진군 미곡처리장 현황에 대한 데이터로소 시군, 명칭, 소재지, 관리부서,...</td>\n",
       "      <td>https://www.data.go.kr/data/15106993/fileData.do</td>\n",
       "      <td>텍스트</td>\n",
       "      <td>전라남도 강진군</td>\n",
       "      <td>농림</td>\n",
       "      <td>공공데이터포털</td>\n",
       "      <td>식품건강</td>\n",
       "    </tr>\n",
       "    <tr>\n",
       "      <th>2</th>\n",
       "      <td>경상남도 거창군_월별 코로나 확진자 현황_20221007</td>\n",
       "      <td>경상남도 거창군 월별 코로나19 관련 확진자 및 사망자 수 현황 데이터로 월별 확진...</td>\n",
       "      <td>https://www.data.go.kr/data/15098865/fileData.do</td>\n",
       "      <td>텍스트</td>\n",
       "      <td>경상남도 거창군</td>\n",
       "      <td>보건</td>\n",
       "      <td>공공데이터포털</td>\n",
       "      <td>보건의료</td>\n",
       "    </tr>\n",
       "    <tr>\n",
       "      <th>3</th>\n",
       "      <td>충청남도 부여군_1인당지방세부담액_20221006</td>\n",
       "      <td>상기 데이터는 연도별 주민 1인당 또는 세대 당 부담된  지방세액에 대한 정보로 조...</td>\n",
       "      <td>https://www.data.go.kr/data/15080007/fileData.do</td>\n",
       "      <td>텍스트</td>\n",
       "      <td>충청남도 부여군</td>\n",
       "      <td>재정·세제·금융</td>\n",
       "      <td>공공데이터포털</td>\n",
       "      <td>경제금융</td>\n",
       "    </tr>\n",
       "    <tr>\n",
       "      <th>4</th>\n",
       "      <td>전라남도 보성군_담배소매인지정현황_20221006</td>\n",
       "      <td>전라남도 보성군 담배소매인지정현황에 관한 공공데이터로 업소명, 지번주소, 도로명주소...</td>\n",
       "      <td>https://www.data.go.kr/data/15035564/fileData.do</td>\n",
       "      <td>텍스트</td>\n",
       "      <td>전라남도 보성군</td>\n",
       "      <td>일반공공행정</td>\n",
       "      <td>공공데이터포털</td>\n",
       "      <td>행정법률</td>\n",
       "    </tr>\n",
       "    <tr>\n",
       "      <th>...</th>\n",
       "      <td>...</td>\n",
       "      <td>...</td>\n",
       "      <td>...</td>\n",
       "      <td>...</td>\n",
       "      <td>...</td>\n",
       "      <td>...</td>\n",
       "      <td>...</td>\n",
       "      <td>...</td>\n",
       "    </tr>\n",
       "    <tr>\n",
       "      <th>127046</th>\n",
       "      <td>서울시 구로구 식품첨가물제조업 인허가 정보</td>\n",
       "      <td>구로구의 식품을 제조 또는 가공할 때 기호가치를 향상시키거나 영양가치를 높일목적의 ...</td>\n",
       "      <td>https://data.seoul.go.kr/dataList/OA-18293/S/1...</td>\n",
       "      <td>SHEET,OpenAPI</td>\n",
       "      <td>구로구 스마트도시정책관 빅데이터담당관</td>\n",
       "      <td>보건</td>\n",
       "      <td>서울데이터광장</td>\n",
       "      <td>보건의료</td>\n",
       "    </tr>\n",
       "    <tr>\n",
       "      <th>127047</th>\n",
       "      <td>서울시 송파구 국제회의시설업 인허가 정보</td>\n",
       "      <td>송파구의 컨벤션센터 등 대규모 관광 수요를 유발하는 국제회의를 개최할 수 있는 시설...</td>\n",
       "      <td>https://data.seoul.go.kr/dataList/OA-16990/S/1...</td>\n",
       "      <td>SHEET,OpenAPI</td>\n",
       "      <td>송파구 스마트도시정책관 빅데이터담당관</td>\n",
       "      <td>문화/관광</td>\n",
       "      <td>서울데이터광장</td>\n",
       "      <td>문화관광</td>\n",
       "    </tr>\n",
       "    <tr>\n",
       "      <th>127048</th>\n",
       "      <td>서울시 중구 국제회의시설업 인허가 정보</td>\n",
       "      <td>중구의 컨벤션센터 등 대규모 관광 수요를 유발하는 국제회의를 개최할 수 있는 시설을...</td>\n",
       "      <td>https://data.seoul.go.kr/dataList/OA-16968/S/1...</td>\n",
       "      <td>SHEET,OpenAPI</td>\n",
       "      <td>중구 스마트도시정책관 빅데이터담당관</td>\n",
       "      <td>문화/관광</td>\n",
       "      <td>서울데이터광장</td>\n",
       "      <td>문화관광</td>\n",
       "    </tr>\n",
       "    <tr>\n",
       "      <th>127049</th>\n",
       "      <td>서울시 강남구 국제회의시설업 인허가 정보</td>\n",
       "      <td>강남구의 컨벤션센터 등 대규모 관광 수요를 유발하는 국제회의를 개최할 수 있는 시설...</td>\n",
       "      <td>https://data.seoul.go.kr/dataList/OA-16989/S/1...</td>\n",
       "      <td>SHEET,OpenAPI</td>\n",
       "      <td>강남구 스마트도시정책관 빅데이터담당관</td>\n",
       "      <td>문화/관광</td>\n",
       "      <td>서울데이터광장</td>\n",
       "      <td>문화관광</td>\n",
       "    </tr>\n",
       "    <tr>\n",
       "      <th>127050</th>\n",
       "      <td>서울시 송파구 비디오물시청제공업 인허가 정보</td>\n",
       "      <td>송파구의 숙박 및 휴게 등의 목적으로 이용하는 장소 또는 시설에서 비디오물 시청기자...</td>\n",
       "      <td>https://data.seoul.go.kr/dataList/OA-17365/S/1...</td>\n",
       "      <td>SHEET,OpenAPI</td>\n",
       "      <td>송파구 스마트도시정책관 빅데이터담당관</td>\n",
       "      <td>문화/관광</td>\n",
       "      <td>서울데이터광장</td>\n",
       "      <td>문화관광</td>\n",
       "    </tr>\n",
       "  </tbody>\n",
       "</table>\n",
       "<p>127051 rows × 8 columns</p>\n",
       "</div>"
      ],
      "text/plain": [
       "                                  title  \\\n",
       "0        충청남도 당진시_산업단지 입주기업 현황_20220304   \n",
       "1             전라남도 강진군_미곡처리장현황_20221006   \n",
       "2       경상남도 거창군_월별 코로나 확진자 현황_20221007   \n",
       "3           충청남도 부여군_1인당지방세부담액_20221006   \n",
       "4           전라남도 보성군_담배소매인지정현황_20221006   \n",
       "...                                 ...   \n",
       "127046          서울시 구로구 식품첨가물제조업 인허가 정보   \n",
       "127047           서울시 송파구 국제회의시설업 인허가 정보   \n",
       "127048            서울시 중구 국제회의시설업 인허가 정보   \n",
       "127049           서울시 강남구 국제회의시설업 인허가 정보   \n",
       "127050         서울시 송파구 비디오물시청제공업 인허가 정보   \n",
       "\n",
       "                                              description  \\\n",
       "0       충청남도 당진시 산업단지 입주 기업 현황입니다.(연번, 단지명, 회사명, 업종명, ...   \n",
       "1       전라남도 강진군 미곡처리장 현황에 대한 데이터로소 시군, 명칭, 소재지, 관리부서,...   \n",
       "2       경상남도 거창군 월별 코로나19 관련 확진자 및 사망자 수 현황 데이터로 월별 확진...   \n",
       "3       상기 데이터는 연도별 주민 1인당 또는 세대 당 부담된  지방세액에 대한 정보로 조...   \n",
       "4       전라남도 보성군 담배소매인지정현황에 관한 공공데이터로 업소명, 지번주소, 도로명주소...   \n",
       "...                                                   ...   \n",
       "127046  구로구의 식품을 제조 또는 가공할 때 기호가치를 향상시키거나 영양가치를 높일목적의 ...   \n",
       "127047  송파구의 컨벤션센터 등 대규모 관광 수요를 유발하는 국제회의를 개최할 수 있는 시설...   \n",
       "127048  중구의 컨벤션센터 등 대규모 관광 수요를 유발하는 국제회의를 개최할 수 있는 시설을...   \n",
       "127049  강남구의 컨벤션센터 등 대규모 관광 수요를 유발하는 국제회의를 개최할 수 있는 시설...   \n",
       "127050  송파구의 숙박 및 휴게 등의 목적으로 이용하는 장소 또는 시설에서 비디오물 시청기자...   \n",
       "\n",
       "                                                      url      data_type  \\\n",
       "0        https://www.data.go.kr/data/15106898/fileData.do            텍스트   \n",
       "1        https://www.data.go.kr/data/15106993/fileData.do            텍스트   \n",
       "2        https://www.data.go.kr/data/15098865/fileData.do            텍스트   \n",
       "3        https://www.data.go.kr/data/15080007/fileData.do            텍스트   \n",
       "4        https://www.data.go.kr/data/15035564/fileData.do            텍스트   \n",
       "...                                                   ...            ...   \n",
       "127046  https://data.seoul.go.kr/dataList/OA-18293/S/1...  SHEET,OpenAPI   \n",
       "127047  https://data.seoul.go.kr/dataList/OA-16990/S/1...  SHEET,OpenAPI   \n",
       "127048  https://data.seoul.go.kr/dataList/OA-16968/S/1...  SHEET,OpenAPI   \n",
       "127049  https://data.seoul.go.kr/dataList/OA-16989/S/1...  SHEET,OpenAPI   \n",
       "127050  https://data.seoul.go.kr/dataList/OA-17365/S/1...  SHEET,OpenAPI   \n",
       "\n",
       "                      source   ori_label ori_source label  \n",
       "0                   충청남도 당진시  산업·통상·중소기업    공공데이터포털  제조소비  \n",
       "1                   전라남도 강진군          농림    공공데이터포털  식품건강  \n",
       "2                   경상남도 거창군          보건    공공데이터포털  보건의료  \n",
       "3                   충청남도 부여군    재정·세제·금융    공공데이터포털  경제금융  \n",
       "4                   전라남도 보성군      일반공공행정    공공데이터포털  행정법률  \n",
       "...                      ...         ...        ...   ...  \n",
       "127046  구로구 스마트도시정책관 빅데이터담당관          보건    서울데이터광장  보건의료  \n",
       "127047  송파구 스마트도시정책관 빅데이터담당관       문화/관광    서울데이터광장  문화관광  \n",
       "127048   중구 스마트도시정책관 빅데이터담당관       문화/관광    서울데이터광장  문화관광  \n",
       "127049  강남구 스마트도시정책관 빅데이터담당관       문화/관광    서울데이터광장  문화관광  \n",
       "127050  송파구 스마트도시정책관 빅데이터담당관       문화/관광    서울데이터광장  문화관광  \n",
       "\n",
       "[127051 rows x 8 columns]"
      ]
     },
     "metadata": {},
     "output_type": "display_data"
    }
   ],
   "source": [
    "display(data)"
   ]
  },
  {
   "cell_type": "code",
   "execution_count": 23,
   "id": "42712e0f",
   "metadata": {},
   "outputs": [
    {
     "data": {
      "text/plain": [
       "0"
      ]
     },
     "execution_count": 23,
     "metadata": {},
     "output_type": "execute_result"
    }
   ],
   "source": [
    "data['description'].isnull().sum()"
   ]
  },
  {
   "cell_type": "code",
   "execution_count": 5,
   "id": "1e91cdcc",
   "metadata": {},
   "outputs": [],
   "source": [
    "tokenizer = Komoran()"
   ]
  },
  {
   "cell_type": "code",
   "execution_count": 18,
   "id": "cd0a6fcf",
   "metadata": {},
   "outputs": [],
   "source": [
    "def preprocess(df):\n",
    "    data['description'].dropna(axis=0)\n",
    "    print(\"replace start..\")\n",
    "    for i in range(len(data)):\n",
    "        data['description'][i] = str(data['description'][i]).replace('\\n','').replace('\\t','').replace('\\r','').replace('.', '').replace(',','').replace(\"'\",\"\").replace('·', ' ').replace('=','').replace('·','')\n",
    "    print(\"done..\")\n",
    "    \n",
    "    print(\"tokenizing start..\")\n",
    "    description_tokenized = [[token+\"/\"+POS for token, POS in tokenizer.pos(des_)] for des_ in data['description']]\n",
    "    exclusion_tags = ['JKS', 'JKC', 'JKG', 'JKO', 'JKB', 'JKV', 'JKQ', 'JX', 'JC',\n",
    "                      'SF', 'SP', 'SS', 'SE', 'SO', 'EF', 'EP', 'EC', 'ETN', 'ETM',\n",
    "                      'XSN', 'XSV', 'XSA']\n",
    "    \n",
    "    f = lambda x: x in exclusion_tags\n",
    "    \n",
    "    des_preprocessed = []\n",
    "    for i in range(len(description_tokenized)):\n",
    "        temp = []\n",
    "        for j in range(len(description_tokenized[i])):\n",
    "            if f(description_tokenized[i][j].split('/')[1]) is False:\n",
    "                temp.append(description_tokenized[i][j].split('/')[0])\n",
    "        des_preprocessed.append(temp)\n",
    "    print(\"done..\")\n",
    "    \n",
    "    words = np.concatenate(des_preprocessed).tolist()\n",
    "    counter = Counter(words)\n",
    "    counter = counter.most_common(20000-1)\n",
    "    vocab = ['UNK'] + [key for key, _ in counter]\n",
    "    word_to_index = {word:index for index, word in enumerate(vocab)}\n",
    "    \n",
    "    def wordlist_to_indexlist(wordlist):\n",
    "        return [word_to_index[word] if word in word_to_index else word_to_index['UNK'] for word in wordlist]\n",
    "    \n",
    "    return des_preprocessed, word_to_index"
   ]
  },
  {
   "cell_type": "code",
   "execution_count": null,
   "id": "db26465d",
   "metadata": {},
   "outputs": [],
   "source": [
    "for i in range(len(data)):\n",
    "    try:\n",
    "        Komoran.pos(data['description'][i])\n",
    "    except:\n",
    "        print(f'{i} 번째 error발생')"
   ]
  },
  {
   "cell_type": "code",
   "execution_count": 19,
   "id": "d76d1034",
   "metadata": {
    "scrolled": true
   },
   "outputs": [
    {
     "name": "stdout",
     "output_type": "stream",
     "text": [
      "replace start..\n",
      "done..\n",
      "tokenizing start..\n",
      "done..\n"
     ]
    }
   ],
   "source": [
    "des_result, word_to_index = preprocess(data)"
   ]
  },
  {
   "cell_type": "code",
   "execution_count": 21,
   "id": "81eef745",
   "metadata": {
    "scrolled": false
   },
   "outputs": [
    {
     "data": {
      "text/plain": [
       "127051"
      ]
     },
     "execution_count": 21,
     "metadata": {},
     "output_type": "execute_result"
    }
   ],
   "source": [
    "len(des_result)"
   ]
  },
  {
   "cell_type": "code",
   "execution_count": 26,
   "id": "e27957a7",
   "metadata": {
    "scrolled": true
   },
   "outputs": [
    {
     "data": {
      "text/plain": [
       "20000"
      ]
     },
     "execution_count": 26,
     "metadata": {},
     "output_type": "execute_result"
    }
   ],
   "source": [
    "len(word_to_index)"
   ]
  },
  {
   "cell_type": "code",
   "execution_count": 27,
   "id": "a890e5bf",
   "metadata": {},
   "outputs": [],
   "source": [
    "def wordlist_to_indexlist(wordlist):\n",
    "        return [word_to_index[word] if word in word_to_index else word_to_index['UNK'] for word in wordlist]"
   ]
  },
  {
   "cell_type": "code",
   "execution_count": 32,
   "id": "61fc7118",
   "metadata": {
    "scrolled": false
   },
   "outputs": [],
   "source": [
    "des_index = []\n",
    "for i in range(len(des_result)):\n",
    "    des_index.append(wordlist_to_indexlist(des_result[i]))"
   ]
  },
  {
   "cell_type": "code",
   "execution_count": 36,
   "id": "0e4f3680",
   "metadata": {},
   "outputs": [
    {
     "data": {
      "text/plain": [
       "127051"
      ]
     },
     "execution_count": 36,
     "metadata": {},
     "output_type": "execute_result"
    }
   ],
   "source": [
    "len(des_index)"
   ]
  },
  {
   "cell_type": "code",
   "execution_count": 37,
   "id": "761183c0",
   "metadata": {},
   "outputs": [],
   "source": [
    "import pickle"
   ]
  },
  {
   "cell_type": "code",
   "execution_count": 38,
   "id": "033619c4",
   "metadata": {},
   "outputs": [],
   "source": [
    "with open(\"../data/des_embedding_bow.pkl\",\"wb\") as f:\n",
    "    pickle.dump(des_index, f)"
   ]
  },
  {
   "cell_type": "code",
   "execution_count": 39,
   "id": "36bf1493",
   "metadata": {},
   "outputs": [],
   "source": [
    "with open(\"../data/des_embedding_bow.pkl\",\"rb\") as f:\n",
    "    emb_load = pickle.load(f)"
   ]
  },
  {
   "cell_type": "code",
   "execution_count": 43,
   "id": "7437b12f",
   "metadata": {
    "scrolled": true
   },
   "outputs": [
    {
     "data": {
      "text/plain": [
       "127051"
      ]
     },
     "execution_count": 43,
     "metadata": {},
     "output_type": "execute_result"
    }
   ],
   "source": [
    "len(emb_load)"
   ]
  }
 ],
 "metadata": {
  "kernelspec": {
   "display_name": "Python 3 (ipykernel)",
   "language": "python",
   "name": "python3"
  },
  "language_info": {
   "codemirror_mode": {
    "name": "ipython",
    "version": 3
   },
   "file_extension": ".py",
   "mimetype": "text/x-python",
   "name": "python",
   "nbconvert_exporter": "python",
   "pygments_lexer": "ipython3",
   "version": "3.8.5"
  }
 },
 "nbformat": 4,
 "nbformat_minor": 5
}

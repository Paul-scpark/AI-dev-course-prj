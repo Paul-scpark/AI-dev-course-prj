{
 "cells": [
  {
   "cell_type": "code",
   "execution_count": 1,
   "id": "1f4bc623",
   "metadata": {},
   "outputs": [],
   "source": [
    "import pandas as pd\n",
    "import numpy as np\n",
    "import tensorflow as tf\n",
    "import matplotlib\n",
    "import matplotlib.pyplot as plt\n",
    "import seaborn as sns\n",
    "\n",
    "from collections import Counter\n",
    "from sklearn.model_selection import train_test_split\n",
    "\n",
    "from konlpy.tag import Komoran"
   ]
  },
  {
   "cell_type": "code",
   "execution_count": 2,
   "id": "de3060ae",
   "metadata": {},
   "outputs": [],
   "source": [
    "data = pd.read_csv('../data/total_data.csv', encoding='UTF8')"
   ]
  },
  {
   "cell_type": "code",
   "execution_count": 3,
   "id": "0f057f38",
   "metadata": {
    "scrolled": true
   },
   "outputs": [
    {
     "data": {
      "text/html": [
       "<div>\n",
       "<style scoped>\n",
       "    .dataframe tbody tr th:only-of-type {\n",
       "        vertical-align: middle;\n",
       "    }\n",
       "\n",
       "    .dataframe tbody tr th {\n",
       "        vertical-align: top;\n",
       "    }\n",
       "\n",
       "    .dataframe thead th {\n",
       "        text-align: right;\n",
       "    }\n",
       "</style>\n",
       "<table border=\"1\" class=\"dataframe\">\n",
       "  <thead>\n",
       "    <tr style=\"text-align: right;\">\n",
       "      <th></th>\n",
       "      <th>title</th>\n",
       "      <th>description</th>\n",
       "      <th>url</th>\n",
       "      <th>data_type</th>\n",
       "      <th>source</th>\n",
       "      <th>ori_label</th>\n",
       "      <th>ori_source</th>\n",
       "      <th>label</th>\n",
       "    </tr>\n",
       "  </thead>\n",
       "  <tbody>\n",
       "    <tr>\n",
       "      <th>0</th>\n",
       "      <td>충청남도 당진시_산업단지 입주기업 현황_20220304</td>\n",
       "      <td>충청남도 당진시 산업단지 입주 기업 현황입니다.(연번, 단지명, 회사명, 업종명, ...</td>\n",
       "      <td>https://www.data.go.kr/data/15106898/fileData.do</td>\n",
       "      <td>텍스트</td>\n",
       "      <td>충청남도 당진시</td>\n",
       "      <td>산업·통상·중소기업</td>\n",
       "      <td>공공데이터포털</td>\n",
       "      <td>제조소비</td>\n",
       "    </tr>\n",
       "    <tr>\n",
       "      <th>1</th>\n",
       "      <td>전라남도 강진군_미곡처리장현황_20221006</td>\n",
       "      <td>전라남도 강진군 미곡처리장 현황에 대한 데이터로소 시군, 명칭, 소재지, 관리부서,...</td>\n",
       "      <td>https://www.data.go.kr/data/15106993/fileData.do</td>\n",
       "      <td>텍스트</td>\n",
       "      <td>전라남도 강진군</td>\n",
       "      <td>농림</td>\n",
       "      <td>공공데이터포털</td>\n",
       "      <td>식품건강</td>\n",
       "    </tr>\n",
       "    <tr>\n",
       "      <th>2</th>\n",
       "      <td>경상남도 거창군_월별 코로나 확진자 현황_20221007</td>\n",
       "      <td>경상남도 거창군 월별 코로나19 관련 확진자 및 사망자 수 현황 데이터로 월별 확진...</td>\n",
       "      <td>https://www.data.go.kr/data/15098865/fileData.do</td>\n",
       "      <td>텍스트</td>\n",
       "      <td>경상남도 거창군</td>\n",
       "      <td>보건</td>\n",
       "      <td>공공데이터포털</td>\n",
       "      <td>보건의료</td>\n",
       "    </tr>\n",
       "    <tr>\n",
       "      <th>3</th>\n",
       "      <td>충청남도 부여군_1인당지방세부담액_20221006</td>\n",
       "      <td>상기 데이터는 연도별 주민 1인당 또는 세대 당 부담된  지방세액에 대한 정보로 조...</td>\n",
       "      <td>https://www.data.go.kr/data/15080007/fileData.do</td>\n",
       "      <td>텍스트</td>\n",
       "      <td>충청남도 부여군</td>\n",
       "      <td>재정·세제·금융</td>\n",
       "      <td>공공데이터포털</td>\n",
       "      <td>경제금융</td>\n",
       "    </tr>\n",
       "    <tr>\n",
       "      <th>4</th>\n",
       "      <td>전라남도 보성군_담배소매인지정현황_20221006</td>\n",
       "      <td>전라남도 보성군 담배소매인지정현황에 관한 공공데이터로 업소명, 지번주소, 도로명주소...</td>\n",
       "      <td>https://www.data.go.kr/data/15035564/fileData.do</td>\n",
       "      <td>텍스트</td>\n",
       "      <td>전라남도 보성군</td>\n",
       "      <td>일반공공행정</td>\n",
       "      <td>공공데이터포털</td>\n",
       "      <td>행정법률</td>\n",
       "    </tr>\n",
       "  </tbody>\n",
       "</table>\n",
       "</div>"
      ],
      "text/plain": [
       "                             title  \\\n",
       "0   충청남도 당진시_산업단지 입주기업 현황_20220304   \n",
       "1        전라남도 강진군_미곡처리장현황_20221006   \n",
       "2  경상남도 거창군_월별 코로나 확진자 현황_20221007   \n",
       "3      충청남도 부여군_1인당지방세부담액_20221006   \n",
       "4      전라남도 보성군_담배소매인지정현황_20221006   \n",
       "\n",
       "                                         description  \\\n",
       "0  충청남도 당진시 산업단지 입주 기업 현황입니다.(연번, 단지명, 회사명, 업종명, ...   \n",
       "1  전라남도 강진군 미곡처리장 현황에 대한 데이터로소 시군, 명칭, 소재지, 관리부서,...   \n",
       "2  경상남도 거창군 월별 코로나19 관련 확진자 및 사망자 수 현황 데이터로 월별 확진...   \n",
       "3  상기 데이터는 연도별 주민 1인당 또는 세대 당 부담된  지방세액에 대한 정보로 조...   \n",
       "4  전라남도 보성군 담배소매인지정현황에 관한 공공데이터로 업소명, 지번주소, 도로명주소...   \n",
       "\n",
       "                                                url data_type    source  \\\n",
       "0  https://www.data.go.kr/data/15106898/fileData.do       텍스트  충청남도 당진시   \n",
       "1  https://www.data.go.kr/data/15106993/fileData.do       텍스트  전라남도 강진군   \n",
       "2  https://www.data.go.kr/data/15098865/fileData.do       텍스트  경상남도 거창군   \n",
       "3  https://www.data.go.kr/data/15080007/fileData.do       텍스트  충청남도 부여군   \n",
       "4  https://www.data.go.kr/data/15035564/fileData.do       텍스트  전라남도 보성군   \n",
       "\n",
       "    ori_label ori_source label  \n",
       "0  산업·통상·중소기업    공공데이터포털  제조소비  \n",
       "1          농림    공공데이터포털  식품건강  \n",
       "2          보건    공공데이터포털  보건의료  \n",
       "3    재정·세제·금융    공공데이터포털  경제금융  \n",
       "4      일반공공행정    공공데이터포털  행정법률  "
      ]
     },
     "execution_count": 3,
     "metadata": {},
     "output_type": "execute_result"
    }
   ],
   "source": [
    "data.head()"
   ]
  },
  {
   "cell_type": "code",
   "execution_count": 4,
   "id": "42712e0f",
   "metadata": {},
   "outputs": [
    {
     "data": {
      "text/plain": [
       "2"
      ]
     },
     "execution_count": 4,
     "metadata": {},
     "output_type": "execute_result"
    }
   ],
   "source": [
    "data['description'].isnull().sum()"
   ]
  },
  {
   "cell_type": "code",
   "execution_count": 5,
   "id": "1e91cdcc",
   "metadata": {},
   "outputs": [],
   "source": [
    "tokenizer = Komoran()"
   ]
  },
  {
   "cell_type": "code",
   "execution_count": 6,
   "id": "cd0a6fcf",
   "metadata": {},
   "outputs": [],
   "source": [
    "def preprocess(df):\n",
    "    data['description'].dropna(axis=0)\n",
    "    print(\"replace start..\")\n",
    "    for i in range(len(data)):\n",
    "        data['description'][i] = str(data['description'][i]).replace('\\n','').replace('\\t','').replace('\\r','').replace('.', '').replace(',','').replace(\"'\",\"\").replace('·', ' ').replace('=','').replace('·','')\n",
    "    print(\"done..\")\n",
    "    \n",
    "    print(\"tokenizing start..\")\n",
    "    description_tokenized = [[token+\"/\"+POS for token, POS in tokenizer.pos(des_)] for des_ in data['description']]\n",
    "    exclusion_tags = ['JKS', 'JKC', 'JKG', 'JKO', 'JKB', 'JKV', 'JKQ', 'JX', 'JC',\n",
    "                      'SF', 'SP', 'SS', 'SE', 'SO', 'EF', 'EP', 'EC', 'ETN', 'ETM',\n",
    "                      'XSN', 'XSV', 'XSA']\n",
    "    \n",
    "    f = lambda x: x in exclusion_tags\n",
    "    \n",
    "    des_preprocessed = []\n",
    "    for i in range(len(description_tokenized)):\n",
    "        temp = []\n",
    "        for j in range(len(description_tokenized[i])):\n",
    "            if f(description_tokenized[i][j].split('/')[1]) is False:\n",
    "                temp.append(description_tokenized[i][j].split('/')[0])\n",
    "        des_preprocessed.append(temp)\n",
    "    print(\"done..\")\n",
    "    \n",
    "    words = np.concatenate(des_preprocessed).tolist()\n",
    "    counter = Counter(words)\n",
    "    counter = counter.most_common(20000-1)\n",
    "    vocab = ['UNK'] + [key for key, _ in counter]\n",
    "    word_to_index = {word:index for index, word in enumerate(vocab)}\n",
    "    \n",
    "    def wordlist_to_indexlist(wordlist):\n",
    "        return [word_to_index[word] if word in word_to_index else word_to_index['UNK'] for word in wordlist]\n",
    "    \n",
    "    indexlist = list(map(wordlist_to_indexlist, des_preprocessed))\n",
    "    \n",
    "    return des_preprocessed, word_to_index, indexlist"
   ]
  },
  {
   "cell_type": "code",
   "execution_count": 8,
   "id": "db26465d",
   "metadata": {
    "scrolled": true
   },
   "outputs": [],
   "source": [
    "# for i in range(len(data)):\n",
    "#     try:\n",
    "#         Komoran.pos(data['description'][i])\n",
    "#     except:\n",
    "#         print(f'{i} 번째 error발생')"
   ]
  },
  {
   "cell_type": "code",
   "execution_count": 10,
   "id": "d76d1034",
   "metadata": {
    "scrolled": false
   },
   "outputs": [
    {
     "name": "stdout",
     "output_type": "stream",
     "text": [
      "replace start..\n",
      "done..\n",
      "tokenizing start..\n",
      "done..\n"
     ]
    }
   ],
   "source": [
    "des_result, word_to_index, index_list = preprocess(data)"
   ]
  },
  {
   "cell_type": "code",
   "execution_count": 11,
   "id": "81eef745",
   "metadata": {
    "scrolled": false
   },
   "outputs": [
    {
     "data": {
      "text/plain": [
       "127051"
      ]
     },
     "execution_count": 11,
     "metadata": {},
     "output_type": "execute_result"
    }
   ],
   "source": [
    "len(des_result)"
   ]
  },
  {
   "cell_type": "code",
   "execution_count": 12,
   "id": "e27957a7",
   "metadata": {
    "scrolled": true
   },
   "outputs": [
    {
     "data": {
      "text/plain": [
       "20000"
      ]
     },
     "execution_count": 12,
     "metadata": {},
     "output_type": "execute_result"
    }
   ],
   "source": [
    "len(word_to_index)"
   ]
  },
  {
   "cell_type": "code",
   "execution_count": 15,
   "id": "761183c0",
   "metadata": {},
   "outputs": [],
   "source": [
    "import pickle"
   ]
  },
  {
   "cell_type": "code",
   "execution_count": null,
   "id": "033619c4",
   "metadata": {},
   "outputs": [],
   "source": [
    "# with open(\"../data/des_embedding_bow.pkl\",\"wb\") as f:\n",
    "#     pickle.dump(index_list, f)"
   ]
  },
  {
   "cell_type": "code",
   "execution_count": 16,
   "id": "36bf1493",
   "metadata": {},
   "outputs": [],
   "source": [
    "with open(\"../data/des_embedding_bow.pkl\",\"rb\") as f:\n",
    "    emb_load = pickle.load(f)"
   ]
  },
  {
   "cell_type": "code",
   "execution_count": 17,
   "id": "7437b12f",
   "metadata": {
    "scrolled": true
   },
   "outputs": [
    {
     "data": {
      "text/plain": [
       "127051"
      ]
     },
     "execution_count": 17,
     "metadata": {},
     "output_type": "execute_result"
    }
   ],
   "source": [
    "len(emb_load)"
   ]
  },
  {
   "cell_type": "markdown",
   "id": "99f8db13",
   "metadata": {},
   "source": [
    "## 랜덤 인덱스를 통해 유사한 데이터 뽑아내기"
   ]
  },
  {
   "cell_type": "code",
   "execution_count": 115,
   "id": "ae843f72",
   "metadata": {},
   "outputs": [],
   "source": [
    "from numpy import dot\n",
    "from numpy.linalg import norm\n",
    "\n",
    "def cos_sim(A, B):\n",
    "    return dot(A, B)/(norm(A)*norm(B))"
   ]
  },
  {
   "cell_type": "code",
   "execution_count": 116,
   "id": "c0009902",
   "metadata": {},
   "outputs": [],
   "source": [
    "import random\n",
    "from random import randrange\n",
    "\n",
    "random.seed(7777)\n",
    "random_idx = randrange(len(data))"
   ]
  },
  {
   "cell_type": "code",
   "execution_count": 117,
   "id": "901e4100",
   "metadata": {},
   "outputs": [
    {
     "data": {
      "text/plain": [
       "107092"
      ]
     },
     "execution_count": 117,
     "metadata": {},
     "output_type": "execute_result"
    }
   ],
   "source": [
    "random_idx"
   ]
  },
  {
   "cell_type": "code",
   "execution_count": 139,
   "id": "90cda524",
   "metadata": {},
   "outputs": [],
   "source": [
    "def print_data_info(random_idx):\n",
    "    print(\"##########################################\")\n",
    "    print('data title : ' + str(data['title'][random_idx]))\n",
    "    print('data description : ' + str(data['description'][random_idx]))\n",
    "    print('data url : ' + str(data['url'][random_idx]))\n",
    "    print('data type : ' + str(data['data_type'][random_idx]))\n",
    "    print('data source : ' + str(data['source'][random_idx]))\n",
    "    print('data ori_label : ' + str(data['ori_label'][random_idx]))\n",
    "    print('data ori_source : ' + str(data['ori_source'][random_idx]))\n",
    "    print('data label : ' + str(data['label'][random_idx]))\n",
    "    print(\"##########################################\")\n",
    "    print(\"\\n\")"
   ]
  },
  {
   "cell_type": "code",
   "execution_count": 119,
   "id": "10e0690d",
   "metadata": {},
   "outputs": [
    {
     "name": "stdout",
     "output_type": "stream",
     "text": [
      "##########################################\n",
      "data title : 대전광역시_중구_인테리어업체현황\n",
      "data description : 대전광역시 중구 관내 인테리어업체 현황(연번 상호 업종 영업소재지도로명 전화번호 데이터기준일자) 을 제공합니다\n",
      "data url : https://www.data.go.kr/data/15038457/fileData.do\n",
      "data type : CSV\n",
      "data source : 공공데이터포털\n",
      "data ori_label : 행정법률\n",
      "data ori_source : 빅데이터지도\n",
      "data label : 행정법률\n",
      "##########################################\n",
      "\n",
      "\n"
     ]
    }
   ],
   "source": [
    "print_data_info(random_idx)"
   ]
  },
  {
   "cell_type": "code",
   "execution_count": 120,
   "id": "9c4613e5",
   "metadata": {},
   "outputs": [],
   "source": [
    "target_des = data['description'][random_idx]"
   ]
  },
  {
   "cell_type": "code",
   "execution_count": 121,
   "id": "9d77052d",
   "metadata": {},
   "outputs": [
    {
     "data": {
      "text/plain": [
       "'대전광역시 중구 관내 인테리어업체 현황(연번 상호 업종 영업소재지도로명 전화번호 데이터기준일자) 을 제공합니다'"
      ]
     },
     "execution_count": 121,
     "metadata": {},
     "output_type": "execute_result"
    }
   ],
   "source": [
    "target_des"
   ]
  },
  {
   "cell_type": "code",
   "execution_count": 122,
   "id": "8f7ec815",
   "metadata": {},
   "outputs": [],
   "source": [
    "target_des = str(target_des).replace('\\n','').replace('\\t','').replace('\\r','').replace('.', '').replace(',','').replace(\"'\",\"\").replace('·', ' ').replace('=','').replace('·','')\n",
    "target_des = [token+\"/\"+POS for token, POS in tokenizer.pos(target_des)]"
   ]
  },
  {
   "cell_type": "code",
   "execution_count": 123,
   "id": "865b4f8f",
   "metadata": {},
   "outputs": [],
   "source": [
    "exclusion_tags = ['JKS', 'JKC', 'JKG', 'JKO', 'JKB', 'JKV', 'JKQ', 'JX', 'JC',\n",
    "                      'SF', 'SP', 'SS', 'SE', 'SO', 'EF', 'EP', 'EC', 'ETN', 'ETM',\n",
    "                      'XSN', 'XSV', 'XSA']\n",
    "    \n",
    "f = lambda x: x in exclusion_tags\n",
    "    \n",
    "target_preprocessed = []\n",
    "for i in range(len(target_des)):\n",
    "    if f(target_des[i].split('/')[1]) is False:\n",
    "        target_preprocessed.append(target_des[i].split('/')[0])"
   ]
  },
  {
   "cell_type": "code",
   "execution_count": 124,
   "id": "2ac3105d",
   "metadata": {},
   "outputs": [
    {
     "data": {
      "text/plain": [
       "['대전광역시', '중구', '관내', '인테리어', '업체']"
      ]
     },
     "execution_count": 124,
     "metadata": {},
     "output_type": "execute_result"
    }
   ],
   "source": [
    "target_preprocessed[:5]"
   ]
  },
  {
   "cell_type": "code",
   "execution_count": 125,
   "id": "18bc9768",
   "metadata": {},
   "outputs": [],
   "source": [
    " def wordlist_to_indexlist(wordlist):\n",
    "        return [word_to_index[word] if word in word_to_index else word_to_index['UNK'] for word in wordlist]"
   ]
  },
  {
   "cell_type": "code",
   "execution_count": 126,
   "id": "ca695f40",
   "metadata": {},
   "outputs": [],
   "source": [
    "target_index = wordlist_to_indexlist(target_preprocessed)"
   ]
  },
  {
   "cell_type": "markdown",
   "id": "aa1bf38b",
   "metadata": {},
   "source": [
    "### 패딩 맞추기"
   ]
  },
  {
   "cell_type": "code",
   "execution_count": 127,
   "id": "e9836446",
   "metadata": {},
   "outputs": [
    {
     "data": {
      "text/plain": [
       "470"
      ]
     },
     "execution_count": 127,
     "metadata": {},
     "output_type": "execute_result"
    }
   ],
   "source": [
    "max_len = max(len(item) for item in index_list)\n",
    "max_len"
   ]
  },
  {
   "cell_type": "code",
   "execution_count": 128,
   "id": "fd571eac",
   "metadata": {},
   "outputs": [],
   "source": [
    "from tensorflow.keras.preprocessing.sequence import pad_sequences\n",
    "padded_index_list = pad_sequences(index_list, padding='post')"
   ]
  },
  {
   "cell_type": "code",
   "execution_count": 129,
   "id": "9c556866",
   "metadata": {},
   "outputs": [],
   "source": [
    "while len(target_index) < max_len:\n",
    "    target_index.append(0)"
   ]
  },
  {
   "cell_type": "code",
   "execution_count": 130,
   "id": "bd84139f",
   "metadata": {},
   "outputs": [
    {
     "data": {
      "text/plain": [
       "470"
      ]
     },
     "execution_count": 130,
     "metadata": {},
     "output_type": "execute_result"
    }
   ],
   "source": [
    "len(target_index)"
   ]
  },
  {
   "cell_type": "code",
   "execution_count": 131,
   "id": "aaf13fe3",
   "metadata": {},
   "outputs": [
    {
     "name": "stderr",
     "output_type": "stream",
     "text": [
      "C:\\Users\\Home\\AppData\\Local\\Temp/ipykernel_13788/3121412391.py:5: RuntimeWarning: invalid value encountered in true_divide\n",
      "  return dot(A, B)/(norm(A)*norm(B))\n"
     ]
    }
   ],
   "source": [
    "cal_cos_sim = []\n",
    "for i, des in enumerate(padded_index_list):\n",
    "    cal_cos_sim.append((cos_sim(target_index, des),i))"
   ]
  },
  {
   "cell_type": "code",
   "execution_count": 132,
   "id": "2b10532d",
   "metadata": {},
   "outputs": [],
   "source": [
    "cal_cos_sim.sort(reverse=True)"
   ]
  },
  {
   "cell_type": "code",
   "execution_count": 133,
   "id": "69cf0d0d",
   "metadata": {},
   "outputs": [
    {
     "data": {
      "text/plain": [
       "[(1.0000000000000002, 5374),\n",
       " (0.9534720955310304, 94663),\n",
       " (0.9521772773968229, 8487),\n",
       " (0.950745265095663, 72540),\n",
       " (0.9423832589849174, 11397),\n",
       " (0.9420033858169019, 68898)]"
      ]
     },
     "execution_count": 133,
     "metadata": {},
     "output_type": "execute_result"
    }
   ],
   "source": [
    "cal_cos_sim[:6]"
   ]
  },
  {
   "cell_type": "code",
   "execution_count": 134,
   "id": "7ccc76af",
   "metadata": {},
   "outputs": [],
   "source": [
    "result_index = [index[1] for index in cal_cos_sim[:6]]"
   ]
  },
  {
   "cell_type": "code",
   "execution_count": 135,
   "id": "16bd8fa9",
   "metadata": {},
   "outputs": [
    {
     "data": {
      "text/plain": [
       "[5374, 94663, 8487, 72540, 11397, 68898]"
      ]
     },
     "execution_count": 135,
     "metadata": {},
     "output_type": "execute_result"
    }
   ],
   "source": [
    "result_index"
   ]
  },
  {
   "cell_type": "code",
   "execution_count": 140,
   "id": "245158e7",
   "metadata": {},
   "outputs": [
    {
     "name": "stdout",
     "output_type": "stream",
     "text": [
      "##########################################\n",
      "data title : 대전광역시_중구_인테리어업체현황_20220902\n",
      "data description : 대전광역시 중구 관내 인테리어업체 현황(연번 상호 업종 영업소재지도로명 전화번호 데이터기준일자) 을 제공합니다\n",
      "data url : https://www.data.go.kr/data/15038457/fileData.do\n",
      "data type : 텍스트\n",
      "data source : 대전광역시 중구\n",
      "data ori_label : 일반공공행정\n",
      "data ori_source : 공공데이터포털\n",
      "data label : 행정법률\n",
      "##########################################\n",
      "\n",
      "\n",
      "##########################################\n",
      "data title : 서울특별시 은평구_가로등분전함 정보\n",
      "data description : 은평구 가로등 분전함 설치현황입니다 속성은 구분 노선명 공동주택명 계약종별가로등분전함 위치로 구성되어있습니다\n",
      "data url : https://www.data.go.kr/data/3078204/fileData.do\n",
      "data type : NONE\n",
      "data source : 공공데이터포털\n",
      "data ori_label : 재난안전\n",
      "data ori_source : 빅데이터지도\n",
      "data label : 재난안전\n",
      "##########################################\n",
      "\n",
      "\n",
      "##########################################\n",
      "data title : 경상남도 김해시_시민정보화교육_20220817\n",
      "data description : 시민정보화교육(교육장 교육시작일 교육종료일 교육시작시간 교육종료시간 과목 대상 교육장주소 등)에 관한 데이터를 제공합니다\n",
      "data url : https://www.data.go.kr/data/3063738/fileData.do\n",
      "data type : 텍스트\n",
      "data source : 경상남도 김해시\n",
      "data ori_label : 교육\n",
      "data ori_source : 공공데이터포털\n",
      "data label : 교육과학\n",
      "##########################################\n",
      "\n",
      "\n",
      "##########################################\n",
      "data title : 경상남도_추천상품(QC)\n",
      "data description : 경상남도 추천상품(QC)으로 지정된 상품의 품목 제조사 주소 대표연락처 지정정보 등의 경상남도 추천상품(QC) 지정현황 조회 서비스\n",
      "data url : https://www.data.go.kr/data/15062919/openapi.do\n",
      "data type : nan\n",
      "data source : 공공데이터포털\n",
      "data ori_label : 경제금융\n",
      "data ori_source : 빅데이터지도\n",
      "data label : 경제금융\n",
      "##########################################\n",
      "\n",
      "\n",
      "##########################################\n",
      "data title : 충청북도_정신의료기관 현황_20220728\n",
      "data description : 충청북도내 위치한 정신의료기관의 현황으로서 연번/시군/기관구분/기관명/주소지/전화 등의 항목을 제공하고 있습니다\n",
      "data url : https://www.data.go.kr/data/15102914/fileData.do\n",
      "data type : 텍스트\n",
      "data source : 충청북도\n",
      "data ori_label : 보건\n",
      "data ori_source : 공공데이터포털\n",
      "data label : 보건의료\n",
      "##########################################\n",
      "\n",
      "\n",
      "##########################################\n",
      "data title : 인천광역시 서구_육류 기타 가공 및 저장처 제조업체\n",
      "data description : 인천광역시 서구에 위치한 육류 기타 가공 및 저장처 제조업체에 관한 데이터셋입니다 인천광역시 서구에 위치한 육류 기타 가공 및 저장처 제조업체의  회사명 생산품 업종명 대표주소 전화번호 팩스번호에 관한 정보를 포함하고 있습니다\n",
      "data url : https://www.data.go.kr/data/15089574/fileData.do\n",
      "data type : CSV\n",
      "data source : 공공데이터포털\n",
      "data ori_label : 경제금융\n",
      "data ori_source : 빅데이터지도\n",
      "data label : 경제금융\n",
      "##########################################\n",
      "\n",
      "\n"
     ]
    }
   ],
   "source": [
    "for index in result_index:\n",
    "    print_data_info(index)"
   ]
  },
  {
   "cell_type": "code",
   "execution_count": null,
   "id": "a1ac3888",
   "metadata": {},
   "outputs": [],
   "source": []
  }
 ],
 "metadata": {
  "kernelspec": {
   "display_name": "Python 3 (ipykernel)",
   "language": "python",
   "name": "python3"
  },
  "language_info": {
   "codemirror_mode": {
    "name": "ipython",
    "version": 3
   },
   "file_extension": ".py",
   "mimetype": "text/x-python",
   "name": "python",
   "nbconvert_exporter": "python",
   "pygments_lexer": "ipython3",
   "version": "3.8.5"
  }
 },
 "nbformat": 4,
 "nbformat_minor": 5
}

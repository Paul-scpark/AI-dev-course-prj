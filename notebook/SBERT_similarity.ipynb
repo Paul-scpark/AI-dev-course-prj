{
 "cells": [
  {
   "cell_type": "code",
   "execution_count": 41,
   "id": "710c8285",
   "metadata": {},
   "outputs": [],
   "source": [
    "import pandas as pd\n",
    "import numpy as np\n",
    "\n",
    "import time\n",
    "\n",
    "import torch\n",
    "from sentence_transformers import SentenceTransformer, util"
   ]
  },
  {
   "cell_type": "markdown",
   "id": "98ed951e",
   "metadata": {},
   "source": [
    "## 1. Data Load"
   ]
  },
  {
   "cell_type": "code",
   "execution_count": 2,
   "id": "6400d427",
   "metadata": {},
   "outputs": [],
   "source": [
    "data = pd.read_csv(\"../data/total_data.csv\")"
   ]
  },
  {
   "cell_type": "code",
   "execution_count": 3,
   "id": "8294ba79",
   "metadata": {},
   "outputs": [
    {
     "data": {
      "text/html": [
       "<div>\n",
       "<style scoped>\n",
       "    .dataframe tbody tr th:only-of-type {\n",
       "        vertical-align: middle;\n",
       "    }\n",
       "\n",
       "    .dataframe tbody tr th {\n",
       "        vertical-align: top;\n",
       "    }\n",
       "\n",
       "    .dataframe thead th {\n",
       "        text-align: right;\n",
       "    }\n",
       "</style>\n",
       "<table border=\"1\" class=\"dataframe\">\n",
       "  <thead>\n",
       "    <tr style=\"text-align: right;\">\n",
       "      <th></th>\n",
       "      <th>title</th>\n",
       "      <th>description</th>\n",
       "      <th>url</th>\n",
       "      <th>data_type</th>\n",
       "      <th>source</th>\n",
       "      <th>ori_label</th>\n",
       "      <th>ori_source</th>\n",
       "      <th>label</th>\n",
       "    </tr>\n",
       "  </thead>\n",
       "  <tbody>\n",
       "    <tr>\n",
       "      <th>0</th>\n",
       "      <td>충청남도 당진시_산업단지 입주기업 현황_20220304</td>\n",
       "      <td>충청남도 당진시 산업단지 입주 기업 현황입니다.(연번, 단지명, 회사명, 업종명, ...</td>\n",
       "      <td>https://www.data.go.kr/data/15106898/fileData.do</td>\n",
       "      <td>텍스트</td>\n",
       "      <td>충청남도 당진시</td>\n",
       "      <td>산업·통상·중소기업</td>\n",
       "      <td>공공데이터포털</td>\n",
       "      <td>제조소비</td>\n",
       "    </tr>\n",
       "    <tr>\n",
       "      <th>1</th>\n",
       "      <td>전라남도 강진군_미곡처리장현황_20221006</td>\n",
       "      <td>전라남도 강진군 미곡처리장 현황에 대한 데이터로소 시군, 명칭, 소재지, 관리부서,...</td>\n",
       "      <td>https://www.data.go.kr/data/15106993/fileData.do</td>\n",
       "      <td>텍스트</td>\n",
       "      <td>전라남도 강진군</td>\n",
       "      <td>농림</td>\n",
       "      <td>공공데이터포털</td>\n",
       "      <td>식품건강</td>\n",
       "    </tr>\n",
       "    <tr>\n",
       "      <th>2</th>\n",
       "      <td>경상남도 거창군_월별 코로나 확진자 현황_20221007</td>\n",
       "      <td>경상남도 거창군 월별 코로나19 관련 확진자 및 사망자 수 현황 데이터로 월별 확진...</td>\n",
       "      <td>https://www.data.go.kr/data/15098865/fileData.do</td>\n",
       "      <td>텍스트</td>\n",
       "      <td>경상남도 거창군</td>\n",
       "      <td>보건</td>\n",
       "      <td>공공데이터포털</td>\n",
       "      <td>보건의료</td>\n",
       "    </tr>\n",
       "    <tr>\n",
       "      <th>3</th>\n",
       "      <td>충청남도 부여군_1인당지방세부담액_20221006</td>\n",
       "      <td>상기 데이터는 연도별 주민 1인당 또는 세대 당 부담된  지방세액에 대한 정보로 조...</td>\n",
       "      <td>https://www.data.go.kr/data/15080007/fileData.do</td>\n",
       "      <td>텍스트</td>\n",
       "      <td>충청남도 부여군</td>\n",
       "      <td>재정·세제·금융</td>\n",
       "      <td>공공데이터포털</td>\n",
       "      <td>경제금융</td>\n",
       "    </tr>\n",
       "    <tr>\n",
       "      <th>4</th>\n",
       "      <td>전라남도 보성군_담배소매인지정현황_20221006</td>\n",
       "      <td>전라남도 보성군 담배소매인지정현황에 관한 공공데이터로 업소명, 지번주소, 도로명주소...</td>\n",
       "      <td>https://www.data.go.kr/data/15035564/fileData.do</td>\n",
       "      <td>텍스트</td>\n",
       "      <td>전라남도 보성군</td>\n",
       "      <td>일반공공행정</td>\n",
       "      <td>공공데이터포털</td>\n",
       "      <td>행정법률</td>\n",
       "    </tr>\n",
       "    <tr>\n",
       "      <th>...</th>\n",
       "      <td>...</td>\n",
       "      <td>...</td>\n",
       "      <td>...</td>\n",
       "      <td>...</td>\n",
       "      <td>...</td>\n",
       "      <td>...</td>\n",
       "      <td>...</td>\n",
       "      <td>...</td>\n",
       "    </tr>\n",
       "    <tr>\n",
       "      <th>127046</th>\n",
       "      <td>서울시 구로구 식품첨가물제조업 인허가 정보</td>\n",
       "      <td>구로구의 식품을 제조 또는 가공할 때 기호가치를 향상시키거나 영양가치를 높일목적의 ...</td>\n",
       "      <td>https://data.seoul.go.kr/dataList/OA-18293/S/1...</td>\n",
       "      <td>SHEET,OpenAPI</td>\n",
       "      <td>구로구 스마트도시정책관 빅데이터담당관</td>\n",
       "      <td>보건</td>\n",
       "      <td>서울데이터광장</td>\n",
       "      <td>보건의료</td>\n",
       "    </tr>\n",
       "    <tr>\n",
       "      <th>127047</th>\n",
       "      <td>서울시 송파구 국제회의시설업 인허가 정보</td>\n",
       "      <td>송파구의 컨벤션센터 등 대규모 관광 수요를 유발하는 국제회의를 개최할 수 있는 시설...</td>\n",
       "      <td>https://data.seoul.go.kr/dataList/OA-16990/S/1...</td>\n",
       "      <td>SHEET,OpenAPI</td>\n",
       "      <td>송파구 스마트도시정책관 빅데이터담당관</td>\n",
       "      <td>문화/관광</td>\n",
       "      <td>서울데이터광장</td>\n",
       "      <td>문화관광</td>\n",
       "    </tr>\n",
       "    <tr>\n",
       "      <th>127048</th>\n",
       "      <td>서울시 중구 국제회의시설업 인허가 정보</td>\n",
       "      <td>중구의 컨벤션센터 등 대규모 관광 수요를 유발하는 국제회의를 개최할 수 있는 시설을...</td>\n",
       "      <td>https://data.seoul.go.kr/dataList/OA-16968/S/1...</td>\n",
       "      <td>SHEET,OpenAPI</td>\n",
       "      <td>중구 스마트도시정책관 빅데이터담당관</td>\n",
       "      <td>문화/관광</td>\n",
       "      <td>서울데이터광장</td>\n",
       "      <td>문화관광</td>\n",
       "    </tr>\n",
       "    <tr>\n",
       "      <th>127049</th>\n",
       "      <td>서울시 강남구 국제회의시설업 인허가 정보</td>\n",
       "      <td>강남구의 컨벤션센터 등 대규모 관광 수요를 유발하는 국제회의를 개최할 수 있는 시설...</td>\n",
       "      <td>https://data.seoul.go.kr/dataList/OA-16989/S/1...</td>\n",
       "      <td>SHEET,OpenAPI</td>\n",
       "      <td>강남구 스마트도시정책관 빅데이터담당관</td>\n",
       "      <td>문화/관광</td>\n",
       "      <td>서울데이터광장</td>\n",
       "      <td>문화관광</td>\n",
       "    </tr>\n",
       "    <tr>\n",
       "      <th>127050</th>\n",
       "      <td>서울시 송파구 비디오물시청제공업 인허가 정보</td>\n",
       "      <td>송파구의 숙박 및 휴게 등의 목적으로 이용하는 장소 또는 시설에서 비디오물 시청기자...</td>\n",
       "      <td>https://data.seoul.go.kr/dataList/OA-17365/S/1...</td>\n",
       "      <td>SHEET,OpenAPI</td>\n",
       "      <td>송파구 스마트도시정책관 빅데이터담당관</td>\n",
       "      <td>문화/관광</td>\n",
       "      <td>서울데이터광장</td>\n",
       "      <td>문화관광</td>\n",
       "    </tr>\n",
       "  </tbody>\n",
       "</table>\n",
       "<p>127051 rows × 8 columns</p>\n",
       "</div>"
      ],
      "text/plain": [
       "                                  title  \\\n",
       "0        충청남도 당진시_산업단지 입주기업 현황_20220304   \n",
       "1             전라남도 강진군_미곡처리장현황_20221006   \n",
       "2       경상남도 거창군_월별 코로나 확진자 현황_20221007   \n",
       "3           충청남도 부여군_1인당지방세부담액_20221006   \n",
       "4           전라남도 보성군_담배소매인지정현황_20221006   \n",
       "...                                 ...   \n",
       "127046          서울시 구로구 식품첨가물제조업 인허가 정보   \n",
       "127047           서울시 송파구 국제회의시설업 인허가 정보   \n",
       "127048            서울시 중구 국제회의시설업 인허가 정보   \n",
       "127049           서울시 강남구 국제회의시설업 인허가 정보   \n",
       "127050         서울시 송파구 비디오물시청제공업 인허가 정보   \n",
       "\n",
       "                                              description  \\\n",
       "0       충청남도 당진시 산업단지 입주 기업 현황입니다.(연번, 단지명, 회사명, 업종명, ...   \n",
       "1       전라남도 강진군 미곡처리장 현황에 대한 데이터로소 시군, 명칭, 소재지, 관리부서,...   \n",
       "2       경상남도 거창군 월별 코로나19 관련 확진자 및 사망자 수 현황 데이터로 월별 확진...   \n",
       "3       상기 데이터는 연도별 주민 1인당 또는 세대 당 부담된  지방세액에 대한 정보로 조...   \n",
       "4       전라남도 보성군 담배소매인지정현황에 관한 공공데이터로 업소명, 지번주소, 도로명주소...   \n",
       "...                                                   ...   \n",
       "127046  구로구의 식품을 제조 또는 가공할 때 기호가치를 향상시키거나 영양가치를 높일목적의 ...   \n",
       "127047  송파구의 컨벤션센터 등 대규모 관광 수요를 유발하는 국제회의를 개최할 수 있는 시설...   \n",
       "127048  중구의 컨벤션센터 등 대규모 관광 수요를 유발하는 국제회의를 개최할 수 있는 시설을...   \n",
       "127049  강남구의 컨벤션센터 등 대규모 관광 수요를 유발하는 국제회의를 개최할 수 있는 시설...   \n",
       "127050  송파구의 숙박 및 휴게 등의 목적으로 이용하는 장소 또는 시설에서 비디오물 시청기자...   \n",
       "\n",
       "                                                      url      data_type  \\\n",
       "0        https://www.data.go.kr/data/15106898/fileData.do            텍스트   \n",
       "1        https://www.data.go.kr/data/15106993/fileData.do            텍스트   \n",
       "2        https://www.data.go.kr/data/15098865/fileData.do            텍스트   \n",
       "3        https://www.data.go.kr/data/15080007/fileData.do            텍스트   \n",
       "4        https://www.data.go.kr/data/15035564/fileData.do            텍스트   \n",
       "...                                                   ...            ...   \n",
       "127046  https://data.seoul.go.kr/dataList/OA-18293/S/1...  SHEET,OpenAPI   \n",
       "127047  https://data.seoul.go.kr/dataList/OA-16990/S/1...  SHEET,OpenAPI   \n",
       "127048  https://data.seoul.go.kr/dataList/OA-16968/S/1...  SHEET,OpenAPI   \n",
       "127049  https://data.seoul.go.kr/dataList/OA-16989/S/1...  SHEET,OpenAPI   \n",
       "127050  https://data.seoul.go.kr/dataList/OA-17365/S/1...  SHEET,OpenAPI   \n",
       "\n",
       "                      source   ori_label ori_source label  \n",
       "0                   충청남도 당진시  산업·통상·중소기업    공공데이터포털  제조소비  \n",
       "1                   전라남도 강진군          농림    공공데이터포털  식품건강  \n",
       "2                   경상남도 거창군          보건    공공데이터포털  보건의료  \n",
       "3                   충청남도 부여군    재정·세제·금융    공공데이터포털  경제금융  \n",
       "4                   전라남도 보성군      일반공공행정    공공데이터포털  행정법률  \n",
       "...                      ...         ...        ...   ...  \n",
       "127046  구로구 스마트도시정책관 빅데이터담당관          보건    서울데이터광장  보건의료  \n",
       "127047  송파구 스마트도시정책관 빅데이터담당관       문화/관광    서울데이터광장  문화관광  \n",
       "127048   중구 스마트도시정책관 빅데이터담당관       문화/관광    서울데이터광장  문화관광  \n",
       "127049  강남구 스마트도시정책관 빅데이터담당관       문화/관광    서울데이터광장  문화관광  \n",
       "127050  송파구 스마트도시정책관 빅데이터담당관       문화/관광    서울데이터광장  문화관광  \n",
       "\n",
       "[127051 rows x 8 columns]"
      ]
     },
     "metadata": {},
     "output_type": "display_data"
    }
   ],
   "source": [
    "display(data)"
   ]
  },
  {
   "cell_type": "code",
   "execution_count": 4,
   "id": "cc40c296",
   "metadata": {},
   "outputs": [
    {
     "data": {
      "text/plain": [
       "array(['title', 'description', 'url', 'data_type', 'source', 'ori_label',\n",
       "       'ori_source', 'label'], dtype=object)"
      ]
     },
     "execution_count": 4,
     "metadata": {},
     "output_type": "execute_result"
    }
   ],
   "source": [
    "data.columns.values"
   ]
  },
  {
   "cell_type": "code",
   "execution_count": 5,
   "id": "8de7fb80",
   "metadata": {},
   "outputs": [],
   "source": [
    "des = data.description.values"
   ]
  },
  {
   "cell_type": "code",
   "execution_count": 6,
   "id": "a055d704",
   "metadata": {
    "scrolled": false
   },
   "outputs": [
    {
     "data": {
      "text/plain": [
       "['충청남도 당진시 산업단지 입주 기업 현황입니다.(연번, 단지명, 회사명, 업종명, 도로명주소, 지번주소, 위도, 경도, 전화번호, 데이터 기준일)',\n",
       " '전라남도 강진군 미곡처리장 현황에 대한 데이터로소 시군, 명칭, 소재지, 관리부서, 담당자 연락처 등에 대한 정보를 포함하고 있음',\n",
       " '경상남도 거창군 월별 코로나19 관련 확진자 및 사망자 수 현황 데이터로 월별 확진자 수와 사망자수 항목 데이터를 제공합니다.',\n",
       " '상기 데이터는 연도별 주민 1인당 또는 세대 당 부담된  지방세액에 대한 정보로 조세 부담 수준 확인 및 거시경제 조세승수 등의 산출 기초로 사용',\n",
       " '전라남도 보성군 담배소매인지정현황에 관한 공공데이터로 업소명, 지번주소, 도로명주소, 연락처 등의 정보를 제공하고 있습니다.',\n",
       " '공유재산 중 행정목적으로 사용하지 않거나 사용할 계획이 없는 일반재산에 대한 데이터 제공으로 공유재산의 효율적이 활용 가능',\n",
       " '전라남도 영광군의 장애인전용 주차구역 위반 과태료 부과건수 및 부과액자료로, 연도, 부과건수, 부과금액, 징수건수, 징수금액, 체납건수, 체납금액, 징수율, 데이터기준일자가 있습니다.',\n",
       " '서울시설공단에서 위탁운영중인 서울시립승화원의 월별 화장 통계자료로 대인, 소인, 행려, 개장, 사산, 무연고자로 구분하여 자료를 제공합니다.서울시립승화원 월별 화장 통계(2018~2020)',\n",
       " '대구광역시 남구 실내공기질 관리대상시설의 시설군, 시설명, 소재지도로명주소, 위도 등에 대한 데이터를 제공합니다.',\n",
       " '경상남도 거제시 미곡처리장 현황(미곡처리장 명칭, 소재지, 연락처, 위도, 경도, 기준일자)등에 대한 정보를 제공합니다.',\n",
       " '경기도 용인시에 등록된 연도별, 행정동별 전기차 등록현황에 대한 데이터입니다.데이터 기준: 2018년~2021년',\n",
       " '거창군 내 미곡처리장 현황(업체명, 대표전화번호, 지번주소, 도로명주소, 위도, 경도)에 대한 데이터 자료입니다.',\n",
       " '전라남도 목포시의 최근 3년간 장애인전용주차구역과태료부과현황에 대한 데이터로, 시도\\t, 시군구, 연도, 장애인전용주차구역과태료부과건수(건), 장애인전용주차구역과태료부과금액(원), 데이터기준일자에 대한 자료가 포함되어 있습니다.',\n",
       " '경기도 수원시 독거노인현황에 대한 데이터로 시도명, 시군구명, 읍면동명, 총인원수, 남, 여 등의 항목을 제공합니다.(구별,동별, 남녀별 독거노인수를 표시한 데이터로 주민등록상 1인가구 기준으로 작성하였으며 저소득 독거노인 집계와는 무관한 자료임.)',\n",
       " '전라남도 장성군 장애인전용 불법주차건수 및 과태료부과액 공공데이터 입니다.2020년, 2021년, 2022년 건 수 및 과태료부과액에 대한 데이터를 제공합니다 ',\n",
       " '강원도 삼척시의 축산업 사육 현황(돼지,사슴,산란계,산양,염소,오리,육계,한우의 호수 및 사육 두수) 등을 제공합니다.',\n",
       " '영광군 토석채취 허가현황에 대한 데이터로 위치, 면적, 채취량, 허가일,  용도, 수허가자 상호명 및 사무실연락처 등의 자료를 제공합니다.',\n",
       " '전라남도 영광군의 장애인전용주차구역 현황이 있는 자료입니다. 연번, 분류, 노상 및 노외 구분, 주차장 주소, 주차장 이름, 주차장 전체 주차면수 및 장애인 주차면수가 있습니다.',\n",
       " '영도구 관내에 운영하고 있는 동물병원 현황으로서 (동물병원명, 동물병원소재지, 동물병원 전화번호 등의 항목을 소개합니다.)',\n",
       " '전라남도 곡성군의 문화재지표중 유적지 데이터 정보(향토문화 유적명, 문화유적 지정번호, 향토문화유적구분, 향토문화 유적 종류, 소재지 도로명 주소, 위도, 경도, 문화재 지정일자 등)']"
      ]
     },
     "execution_count": 6,
     "metadata": {},
     "output_type": "execute_result"
    }
   ],
   "source": [
    "[des[i] for i in range(20)]"
   ]
  },
  {
   "cell_type": "markdown",
   "id": "54f876a8",
   "metadata": {},
   "source": [
    "## 2. USE S-BERT"
   ]
  },
  {
   "cell_type": "code",
   "execution_count": 7,
   "id": "15be3667",
   "metadata": {},
   "outputs": [],
   "source": [
    "SBERT = SentenceTransformer('snunlp/KR-SBERT-V40K-klueNLI-augSTS')"
   ]
  },
  {
   "cell_type": "code",
   "execution_count": 8,
   "id": "6e8882fb",
   "metadata": {},
   "outputs": [],
   "source": [
    "ex = SBERT.encode(des[0])"
   ]
  },
  {
   "cell_type": "code",
   "execution_count": 9,
   "id": "de1b85b0",
   "metadata": {},
   "outputs": [
    {
     "data": {
      "text/plain": [
       "array([-0.6380399 , -0.49873194, -0.42911837,  0.7738545 ,  0.7459617 ,\n",
       "        0.9840718 , -0.17374822, -0.5557989 ,  0.08503134, -0.6773501 ],\n",
       "      dtype=float32)"
      ]
     },
     "execution_count": 9,
     "metadata": {},
     "output_type": "execute_result"
    }
   ],
   "source": [
    "ex[:10]"
   ]
  },
  {
   "cell_type": "code",
   "execution_count": 10,
   "id": "dc7ebc17",
   "metadata": {},
   "outputs": [
    {
     "data": {
      "text/plain": [
       "768"
      ]
     },
     "execution_count": 10,
     "metadata": {},
     "output_type": "execute_result"
    }
   ],
   "source": [
    "len(ex)"
   ]
  },
  {
   "cell_type": "code",
   "execution_count": 11,
   "id": "14f089c7",
   "metadata": {},
   "outputs": [
    {
     "data": {
      "text/plain": [
       "array([-0.6380399 , -0.49873194, -0.42911837,  0.7738545 ,  0.7459617 ,\n",
       "        0.9840718 , -0.17374822, -0.5557989 ,  0.08503134, -0.6773501 ],\n",
       "      dtype=float32)"
      ]
     },
     "execution_count": 11,
     "metadata": {},
     "output_type": "execute_result"
    }
   ],
   "source": [
    "ex2 = SBERT.encode(des[0])\n",
    "ex2[:10]"
   ]
  },
  {
   "cell_type": "code",
   "execution_count": 12,
   "id": "3fd51551",
   "metadata": {},
   "outputs": [
    {
     "data": {
      "text/plain": [
       "768"
      ]
     },
     "execution_count": 12,
     "metadata": {},
     "output_type": "execute_result"
    }
   ],
   "source": [
    "len(ex2)"
   ]
  },
  {
   "cell_type": "code",
   "execution_count": 13,
   "id": "87cbf7ba",
   "metadata": {},
   "outputs": [],
   "source": [
    "target = data['description']"
   ]
  },
  {
   "cell_type": "code",
   "execution_count": 14,
   "id": "1038ee95",
   "metadata": {},
   "outputs": [
    {
     "data": {
      "text/plain": [
       "0         충청남도 당진시 산업단지 입주 기업 현황입니다.(연번, 단지명, 회사명, 업종명, ...\n",
       "1         전라남도 강진군 미곡처리장 현황에 대한 데이터로소 시군, 명칭, 소재지, 관리부서,...\n",
       "2         경상남도 거창군 월별 코로나19 관련 확진자 및 사망자 수 현황 데이터로 월별 확진...\n",
       "3         상기 데이터는 연도별 주민 1인당 또는 세대 당 부담된  지방세액에 대한 정보로 조...\n",
       "4         전라남도 보성군 담배소매인지정현황에 관한 공공데이터로 업소명, 지번주소, 도로명주소...\n",
       "                                ...                        \n",
       "127046    구로구의 식품을 제조 또는 가공할 때 기호가치를 향상시키거나 영양가치를 높일목적의 ...\n",
       "127047    송파구의 컨벤션센터 등 대규모 관광 수요를 유발하는 국제회의를 개최할 수 있는 시설...\n",
       "127048    중구의 컨벤션센터 등 대규모 관광 수요를 유발하는 국제회의를 개최할 수 있는 시설을...\n",
       "127049    강남구의 컨벤션센터 등 대규모 관광 수요를 유발하는 국제회의를 개최할 수 있는 시설...\n",
       "127050    송파구의 숙박 및 휴게 등의 목적으로 이용하는 장소 또는 시설에서 비디오물 시청기자...\n",
       "Name: description, Length: 127051, dtype: object"
      ]
     },
     "execution_count": 14,
     "metadata": {},
     "output_type": "execute_result"
    }
   ],
   "source": [
    "target"
   ]
  },
  {
   "cell_type": "code",
   "execution_count": 18,
   "id": "ce07bf04",
   "metadata": {},
   "outputs": [
    {
     "name": "stdout",
     "output_type": "stream",
     "text": [
      "125.13707 sec\n"
     ]
    }
   ],
   "source": [
    "start = time.time()\n",
    "target_encode = SBERT.encode(target)\n",
    "end = time.time()\n",
    "\n",
    "print(f\"{end - start:.5f} sec\")"
   ]
  },
  {
   "cell_type": "code",
   "execution_count": 21,
   "id": "898b5922",
   "metadata": {},
   "outputs": [],
   "source": [
    "des_emb = torch.tensor(target_encode)"
   ]
  },
  {
   "cell_type": "code",
   "execution_count": 22,
   "id": "7524079f",
   "metadata": {},
   "outputs": [],
   "source": [
    "torch.save(des_emb, '../data/des_embedding.pt')"
   ]
  },
  {
   "cell_type": "markdown",
   "id": "34638916",
   "metadata": {},
   "source": [
    "## 3. 유사한 데이터 찾기"
   ]
  },
  {
   "cell_type": "code",
   "execution_count": 24,
   "id": "17ffa598",
   "metadata": {},
   "outputs": [],
   "source": [
    "import random\n",
    "from random import randrange\n",
    "\n",
    "random.seed(20221026)\n",
    "random_idx = randrange(len(data))"
   ]
  },
  {
   "cell_type": "code",
   "execution_count": 25,
   "id": "b69fc10a",
   "metadata": {},
   "outputs": [
    {
     "data": {
      "text/plain": [
       "48252"
      ]
     },
     "execution_count": 25,
     "metadata": {},
     "output_type": "execute_result"
    }
   ],
   "source": [
    "random_idx"
   ]
  },
  {
   "cell_type": "code",
   "execution_count": 83,
   "id": "59099932",
   "metadata": {},
   "outputs": [],
   "source": [
    "def print_data_info(random_idx):\n",
    "    print(\"##########################################\")\n",
    "    print('data title : ' + data['title'][random_idx])\n",
    "    print('data description : ' + data['description'][random_idx])\n",
    "    print('data url : ' + data['url'][random_idx])\n",
    "    print('data type : ' + data['data_type'][random_idx])\n",
    "    print('data source : ' + data['source'][random_idx])\n",
    "    print('data ori_label : ' + data['ori_label'][random_idx])\n",
    "    print('data ori_source : ' + data['ori_source'][random_idx])\n",
    "    print('data label : ' + data['label'][random_idx])\n",
    "    print(\"##########################################\")\n",
    "    print(\"\\n\")"
   ]
  },
  {
   "cell_type": "code",
   "execution_count": 40,
   "id": "94c94245",
   "metadata": {},
   "outputs": [
    {
     "name": "stdout",
     "output_type": "stream",
     "text": [
      "data title : 국가평생교육진흥원_학부모지원시스템_상담_답변관리\n",
      "data description : 학부모 상담관련 CSV파일\n",
      "data url : https://www.data.go.kr/data/15071846/fileData.do\n",
      "data type : CSV\n",
      "data source : 공공데이터포털\n",
      "data ori_label : 교육과학\n",
      "data ori_source : 빅데이터지도\n",
      "data label : 교육과학\n"
     ]
    }
   ],
   "source": [
    "print_data_info(random_idx)"
   ]
  },
  {
   "cell_type": "code",
   "execution_count": 50,
   "id": "153a4499",
   "metadata": {},
   "outputs": [],
   "source": [
    "distance = util.cos_sim(target_encode[random_idx] ,des_emb)"
   ]
  },
  {
   "cell_type": "code",
   "execution_count": 51,
   "id": "b5a39845",
   "metadata": {},
   "outputs": [
    {
     "data": {
      "text/plain": [
       "tensor([[0.1428, 0.2793, 0.1772,  ..., 0.2250, 0.1997, 0.1859]])"
      ]
     },
     "execution_count": 51,
     "metadata": {},
     "output_type": "execute_result"
    }
   ],
   "source": [
    "distance"
   ]
  },
  {
   "cell_type": "code",
   "execution_count": 53,
   "id": "c368bfd6",
   "metadata": {},
   "outputs": [
    {
     "data": {
      "text/plain": [
       "127051"
      ]
     },
     "execution_count": 53,
     "metadata": {},
     "output_type": "execute_result"
    }
   ],
   "source": [
    "len(distance[0])"
   ]
  },
  {
   "cell_type": "code",
   "execution_count": 64,
   "id": "81893170",
   "metadata": {},
   "outputs": [],
   "source": [
    "sort_distance = distance[0].sort()"
   ]
  },
  {
   "cell_type": "code",
   "execution_count": 68,
   "id": "c1909014",
   "metadata": {},
   "outputs": [
    {
     "data": {
      "text/plain": [
       "torch.return_types.sort(\n",
       "values=tensor([-0.1579, -0.1579, -0.1188,  ...,  0.9099,  0.9099,  1.0000]),\n",
       "indices=tensor([109962,   4521,  92048,  ...,  35433,  35369,  48252]))"
      ]
     },
     "execution_count": 68,
     "metadata": {},
     "output_type": "execute_result"
    }
   ],
   "source": [
    "sort_distance"
   ]
  },
  {
   "cell_type": "code",
   "execution_count": 76,
   "id": "a3f0b384",
   "metadata": {},
   "outputs": [
    {
     "data": {
      "text/plain": [
       "tensor([0.9099, 0.9099, 0.9099, 0.9099, 0.9099])"
      ]
     },
     "execution_count": 76,
     "metadata": {},
     "output_type": "execute_result"
    }
   ],
   "source": [
    "sort_distance.values[-6:-1]"
   ]
  },
  {
   "cell_type": "code",
   "execution_count": 77,
   "id": "c3b3561a",
   "metadata": {},
   "outputs": [
    {
     "data": {
      "text/plain": [
       "tensor([48266, 48262, 35411, 35433, 35369])"
      ]
     },
     "execution_count": 77,
     "metadata": {},
     "output_type": "execute_result"
    }
   ],
   "source": [
    "sort_distance.indices[-6:-1]"
   ]
  },
  {
   "cell_type": "code",
   "execution_count": 84,
   "id": "4be2777a",
   "metadata": {},
   "outputs": [
    {
     "name": "stdout",
     "output_type": "stream",
     "text": [
      "##########################################\n",
      "data title : 국가평생교육진흥원_학부모지원시스템_상담_요구사항코드\n",
      "data description : 학부모 상담결과 관련 CSV\n",
      "data url : https://www.data.go.kr/data/15071883/fileData.do\n",
      "data type : CSV\n",
      "data source : 공공데이터포털\n",
      "data ori_label : 교육과학\n",
      "data ori_source : 빅데이터지도\n",
      "data label : 교육과학\n",
      "##########################################\n",
      "\n",
      "\n",
      "##########################################\n",
      "data title : 국가평생교육진흥원_학부모지원시스템_상담_상담신청리스트\n",
      "data description : 학부모 상담결과 관련 CSV\n",
      "data url : https://www.data.go.kr/data/15071872/fileData.do\n",
      "data type : CSV\n",
      "data source : 공공데이터포털\n",
      "data ori_label : 교육과학\n",
      "data ori_source : 빅데이터지도\n",
      "data label : 교육과학\n",
      "##########################################\n",
      "\n",
      "\n",
      "##########################################\n",
      "data title : 국가평생교육진흥원_학부모지원시스템_상담_상담분류코드_20201027\n",
      "data description : 학부모 상담결과 관련 CSV\n",
      "data url : https://www.data.go.kr/data/15071854/fileData.do\n",
      "data type : 텍스트\n",
      "data source : 국가평생교육진흥원\n",
      "data ori_label : 교육\n",
      "data ori_source : 공공데이터포털\n",
      "data label : 교육과학\n",
      "##########################################\n",
      "\n",
      "\n",
      "##########################################\n",
      "data title : 국가평생교육진흥원_학부모지원시스템_상담_요구사항코드_20201027\n",
      "data description : 학부모 상담결과 관련 CSV\n",
      "data url : https://www.data.go.kr/data/15071883/fileData.do\n",
      "data type : 텍스트\n",
      "data source : 국가평생교육진흥원\n",
      "data ori_label : 교육\n",
      "data ori_source : 공공데이터포털\n",
      "data label : 교육과학\n",
      "##########################################\n",
      "\n",
      "\n",
      "##########################################\n",
      "data title : 국가평생교육진흥원_학부모지원시스템_상담_상담사정보_20201027\n",
      "data description : 학부모 상담결과 관련 CSV\n",
      "data url : https://www.data.go.kr/data/15071864/fileData.do\n",
      "data type : 텍스트\n",
      "data source : 국가평생교육진흥원\n",
      "data ori_label : 교육\n",
      "data ori_source : 공공데이터포털\n",
      "data label : 교육과학\n",
      "##########################################\n",
      "\n",
      "\n"
     ]
    }
   ],
   "source": [
    "for i in sort_distance.indices[-6:-1].tolist():\n",
    "    print_data_info(i)"
   ]
  },
  {
   "cell_type": "code",
   "execution_count": null,
   "id": "c1c8ad98",
   "metadata": {},
   "outputs": [],
   "source": []
  }
 ],
 "metadata": {
  "kernelspec": {
   "display_name": "Python 3 (ipykernel)",
   "language": "python",
   "name": "python3"
  },
  "language_info": {
   "codemirror_mode": {
    "name": "ipython",
    "version": 3
   },
   "file_extension": ".py",
   "mimetype": "text/x-python",
   "name": "python",
   "nbconvert_exporter": "python",
   "pygments_lexer": "ipython3",
   "version": "3.8.5"
  }
 },
 "nbformat": 4,
 "nbformat_minor": 5
}

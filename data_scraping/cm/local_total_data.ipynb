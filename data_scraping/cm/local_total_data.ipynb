{
 "cells": [
  {
   "cell_type": "code",
   "execution_count": 1,
   "metadata": {},
   "outputs": [],
   "source": [
    "# library setting\n",
    "from selenium import webdriver\n",
    "from selenium.webdriver.chrome.service import Service\n",
    "from webdriver_manager.chrome import ChromeDriverManager\n",
    "from selenium.webdriver.common.by import By\n",
    "import pandas as pd\n",
    "import time"
   ]
  },
  {
   "cell_type": "code",
   "execution_count": 2,
   "metadata": {},
   "outputs": [],
   "source": [
    "# list setting\n",
    "# 전체_데이터_다운로드_리스트\n",
    "total_label_list = [] # 분류체계\n",
    "total_name_list = [] # 데이터 이름\n",
    "total_script_list = [] # 설명\n",
    "total_provider_list = [] # 제공자 정보\n",
    "total_date_list = [] # 날짜\n",
    "total_download_list = [] # 다운로드 링크\n",
    "total_keyword_list = [] # 키워드\n",
    "total_format_list = [] # 파일형식\n",
    "tag = ['전체분', '전체분', '전체분', '변동분', '변동분', '변동분', '일일분', '일일분', '일일분']"
   ]
  },
  {
   "cell_type": "code",
   "execution_count": 3,
   "metadata": {},
   "outputs": [],
   "source": [
    "# url : 데이터받기 페이지\n",
    "data_get_url = \"https://www.localdata.go.kr/devcenter/dataDown.do?menuNo=20001\"\n",
    "with webdriver.Chrome(service=Service(ChromeDriverManager().install())) as driver :\n",
    "    driver.get(data_get_url)\n",
    "    driver.implicitly_wait(5)\n",
    "\n",
    "    # 전체 데이터 다운로드 페이지 전환\n",
    "    driver.find_element(By.XPATH, \"//*[@id='down-area']/div[1]\").click()\n",
    "\n",
    "    # 링크 출력\n",
    "    download_link = driver.find_elements(By.CSS_SELECTOR, f\"div.total-down a\")\n",
    "    scripts = driver.find_elements(By.CSS_SELECTOR, f\"div.total-down p:nth-child(5)\")\n",
    "\n",
    "    # 데이터 추출\n",
    "    for link in download_link :\n",
    "        total_format_list.append(link.text)\n",
    "        total_download_list.append(link.get_attribute('href'))\n",
    "\n",
    "    for script in scripts :\n",
    "     total_script_list += script.text.replace('\\n', ',').replace('   ', ',').replace('  ','').split(',') * 3\n",
    "\n",
    "total_data_df = pd.DataFrame({\"이름\": tag,\n",
    "                              \"설명\": total_script_list,\n",
    "                              \"파일 제공 형식\" : total_format_list,\n",
    "                              \"다운로드\": total_download_list})\n",
    "\n",
    "total_data_df.to_csv(\"./total_data.csv\", encoding=\"utf-8\")"
   ]
  }
 ],
 "metadata": {
  "kernelspec": {
   "display_name": "Python 3.10.6 64-bit",
   "language": "python",
   "name": "python3"
  },
  "language_info": {
   "codemirror_mode": {
    "name": "ipython",
    "version": 3
   },
   "file_extension": ".py",
   "mimetype": "text/x-python",
   "name": "python",
   "nbconvert_exporter": "python",
   "pygments_lexer": "ipython3",
   "version": "3.10.6"
  },
  "orig_nbformat": 4,
  "vscode": {
   "interpreter": {
    "hash": "aee8b7b246df8f9039afb4144a1f6fd8d2ca17a180786b69acc140d282b71a49"
   }
  }
 },
 "nbformat": 4,
 "nbformat_minor": 2
}

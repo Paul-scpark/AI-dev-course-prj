{
 "cells": [
  {
   "cell_type": "code",
   "execution_count": 1,
   "id": "2a70ebd6",
   "metadata": {},
   "outputs": [],
   "source": [
    "import pandas as pd\n",
    "import numpy as np\n",
    "import torch\n",
    "import random\n",
    "from sentence_transformers import SentenceTransformer, util\n"
   ]
  },
  {
   "cell_type": "code",
   "execution_count": 2,
   "id": "70c0d2f1",
   "metadata": {},
   "outputs": [],
   "source": [
    "# !conda install -c conda-forge ipywidgets\n"
   ]
  },
  {
   "cell_type": "code",
   "execution_count": 3,
   "id": "cb84ca90",
   "metadata": {},
   "outputs": [
    {
     "name": "stdout",
     "output_type": "stream",
     "text": [
      "(127051, 8)\n"
     ]
    }
   ],
   "source": [
    "pre_data = pd.read_csv(\"../data/total_data.csv\")\n",
    "print(pre_data.shape)\n"
   ]
  },
  {
   "cell_type": "code",
   "execution_count": 4,
   "id": "aa9f1a73",
   "metadata": {},
   "outputs": [
    {
     "name": "stdout",
     "output_type": "stream",
     "text": [
      "127051 94805\n"
     ]
    }
   ],
   "source": [
    "#remove duplicates by url, reindex\n",
    "data = pre_data.drop_duplicates(subset='url', keep=\"first\") #keep first or last\n",
    "data.index = np.arange(len(data))\n",
    "\n",
    "\n",
    "print(len(pre_data),len(data)) \n"
   ]
  },
  {
   "cell_type": "code",
   "execution_count": 5,
   "id": "225ae5f7",
   "metadata": {},
   "outputs": [
    {
     "data": {
      "text/html": [
       "<div>\n",
       "<style scoped>\n",
       "    .dataframe tbody tr th:only-of-type {\n",
       "        vertical-align: middle;\n",
       "    }\n",
       "\n",
       "    .dataframe tbody tr th {\n",
       "        vertical-align: top;\n",
       "    }\n",
       "\n",
       "    .dataframe thead th {\n",
       "        text-align: right;\n",
       "    }\n",
       "</style>\n",
       "<table border=\"1\" class=\"dataframe\">\n",
       "  <thead>\n",
       "    <tr style=\"text-align: right;\">\n",
       "      <th></th>\n",
       "      <th>title</th>\n",
       "      <th>description</th>\n",
       "      <th>url</th>\n",
       "      <th>data_type</th>\n",
       "      <th>source</th>\n",
       "      <th>ori_label</th>\n",
       "      <th>ori_source</th>\n",
       "      <th>label</th>\n",
       "    </tr>\n",
       "  </thead>\n",
       "  <tbody>\n",
       "    <tr>\n",
       "      <th>0</th>\n",
       "      <td>충청남도 당진시_산업단지 입주기업 현황_20220304</td>\n",
       "      <td>충청남도 당진시 산업단지 입주 기업 현황입니다.(연번, 단지명, 회사명, 업종명, ...</td>\n",
       "      <td>https://www.data.go.kr/data/15106898/fileData.do</td>\n",
       "      <td>텍스트</td>\n",
       "      <td>충청남도 당진시</td>\n",
       "      <td>산업·통상·중소기업</td>\n",
       "      <td>공공데이터포털</td>\n",
       "      <td>제조소비</td>\n",
       "    </tr>\n",
       "    <tr>\n",
       "      <th>1</th>\n",
       "      <td>전라남도 강진군_미곡처리장현황_20221006</td>\n",
       "      <td>전라남도 강진군 미곡처리장 현황에 대한 데이터로소 시군, 명칭, 소재지, 관리부서,...</td>\n",
       "      <td>https://www.data.go.kr/data/15106993/fileData.do</td>\n",
       "      <td>텍스트</td>\n",
       "      <td>전라남도 강진군</td>\n",
       "      <td>농림</td>\n",
       "      <td>공공데이터포털</td>\n",
       "      <td>식품건강</td>\n",
       "    </tr>\n",
       "    <tr>\n",
       "      <th>2</th>\n",
       "      <td>경상남도 거창군_월별 코로나 확진자 현황_20221007</td>\n",
       "      <td>경상남도 거창군 월별 코로나19 관련 확진자 및 사망자 수 현황 데이터로 월별 확진...</td>\n",
       "      <td>https://www.data.go.kr/data/15098865/fileData.do</td>\n",
       "      <td>텍스트</td>\n",
       "      <td>경상남도 거창군</td>\n",
       "      <td>보건</td>\n",
       "      <td>공공데이터포털</td>\n",
       "      <td>보건의료</td>\n",
       "    </tr>\n",
       "    <tr>\n",
       "      <th>3</th>\n",
       "      <td>충청남도 부여군_1인당지방세부담액_20221006</td>\n",
       "      <td>상기 데이터는 연도별 주민 1인당 또는 세대 당 부담된  지방세액에 대한 정보로 조...</td>\n",
       "      <td>https://www.data.go.kr/data/15080007/fileData.do</td>\n",
       "      <td>텍스트</td>\n",
       "      <td>충청남도 부여군</td>\n",
       "      <td>재정·세제·금융</td>\n",
       "      <td>공공데이터포털</td>\n",
       "      <td>경제금융</td>\n",
       "    </tr>\n",
       "    <tr>\n",
       "      <th>4</th>\n",
       "      <td>전라남도 보성군_담배소매인지정현황_20221006</td>\n",
       "      <td>전라남도 보성군 담배소매인지정현황에 관한 공공데이터로 업소명, 지번주소, 도로명주소...</td>\n",
       "      <td>https://www.data.go.kr/data/15035564/fileData.do</td>\n",
       "      <td>텍스트</td>\n",
       "      <td>전라남도 보성군</td>\n",
       "      <td>일반공공행정</td>\n",
       "      <td>공공데이터포털</td>\n",
       "      <td>행정법률</td>\n",
       "    </tr>\n",
       "    <tr>\n",
       "      <th>...</th>\n",
       "      <td>...</td>\n",
       "      <td>...</td>\n",
       "      <td>...</td>\n",
       "      <td>...</td>\n",
       "      <td>...</td>\n",
       "      <td>...</td>\n",
       "      <td>...</td>\n",
       "      <td>...</td>\n",
       "    </tr>\n",
       "    <tr>\n",
       "      <th>94800</th>\n",
       "      <td>서울시 구로구 식품첨가물제조업 인허가 정보</td>\n",
       "      <td>구로구의 식품을 제조 또는 가공할 때 기호가치를 향상시키거나 영양가치를 높일목적의 ...</td>\n",
       "      <td>https://data.seoul.go.kr/dataList/OA-18293/S/1...</td>\n",
       "      <td>SHEET,OpenAPI</td>\n",
       "      <td>구로구 스마트도시정책관 빅데이터담당관</td>\n",
       "      <td>보건</td>\n",
       "      <td>서울데이터광장</td>\n",
       "      <td>보건의료</td>\n",
       "    </tr>\n",
       "    <tr>\n",
       "      <th>94801</th>\n",
       "      <td>서울시 송파구 국제회의시설업 인허가 정보</td>\n",
       "      <td>송파구의 컨벤션센터 등 대규모 관광 수요를 유발하는 국제회의를 개최할 수 있는 시설...</td>\n",
       "      <td>https://data.seoul.go.kr/dataList/OA-16990/S/1...</td>\n",
       "      <td>SHEET,OpenAPI</td>\n",
       "      <td>송파구 스마트도시정책관 빅데이터담당관</td>\n",
       "      <td>문화/관광</td>\n",
       "      <td>서울데이터광장</td>\n",
       "      <td>문화관광</td>\n",
       "    </tr>\n",
       "    <tr>\n",
       "      <th>94802</th>\n",
       "      <td>서울시 중구 국제회의시설업 인허가 정보</td>\n",
       "      <td>중구의 컨벤션센터 등 대규모 관광 수요를 유발하는 국제회의를 개최할 수 있는 시설을...</td>\n",
       "      <td>https://data.seoul.go.kr/dataList/OA-16968/S/1...</td>\n",
       "      <td>SHEET,OpenAPI</td>\n",
       "      <td>중구 스마트도시정책관 빅데이터담당관</td>\n",
       "      <td>문화/관광</td>\n",
       "      <td>서울데이터광장</td>\n",
       "      <td>문화관광</td>\n",
       "    </tr>\n",
       "    <tr>\n",
       "      <th>94803</th>\n",
       "      <td>서울시 강남구 국제회의시설업 인허가 정보</td>\n",
       "      <td>강남구의 컨벤션센터 등 대규모 관광 수요를 유발하는 국제회의를 개최할 수 있는 시설...</td>\n",
       "      <td>https://data.seoul.go.kr/dataList/OA-16989/S/1...</td>\n",
       "      <td>SHEET,OpenAPI</td>\n",
       "      <td>강남구 스마트도시정책관 빅데이터담당관</td>\n",
       "      <td>문화/관광</td>\n",
       "      <td>서울데이터광장</td>\n",
       "      <td>문화관광</td>\n",
       "    </tr>\n",
       "    <tr>\n",
       "      <th>94804</th>\n",
       "      <td>서울시 송파구 비디오물시청제공업 인허가 정보</td>\n",
       "      <td>송파구의 숙박 및 휴게 등의 목적으로 이용하는 장소 또는 시설에서 비디오물 시청기자...</td>\n",
       "      <td>https://data.seoul.go.kr/dataList/OA-17365/S/1...</td>\n",
       "      <td>SHEET,OpenAPI</td>\n",
       "      <td>송파구 스마트도시정책관 빅데이터담당관</td>\n",
       "      <td>문화/관광</td>\n",
       "      <td>서울데이터광장</td>\n",
       "      <td>문화관광</td>\n",
       "    </tr>\n",
       "  </tbody>\n",
       "</table>\n",
       "<p>94805 rows × 8 columns</p>\n",
       "</div>"
      ],
      "text/plain": [
       "                                 title  \\\n",
       "0       충청남도 당진시_산업단지 입주기업 현황_20220304   \n",
       "1            전라남도 강진군_미곡처리장현황_20221006   \n",
       "2      경상남도 거창군_월별 코로나 확진자 현황_20221007   \n",
       "3          충청남도 부여군_1인당지방세부담액_20221006   \n",
       "4          전라남도 보성군_담배소매인지정현황_20221006   \n",
       "...                                ...   \n",
       "94800          서울시 구로구 식품첨가물제조업 인허가 정보   \n",
       "94801           서울시 송파구 국제회의시설업 인허가 정보   \n",
       "94802            서울시 중구 국제회의시설업 인허가 정보   \n",
       "94803           서울시 강남구 국제회의시설업 인허가 정보   \n",
       "94804         서울시 송파구 비디오물시청제공업 인허가 정보   \n",
       "\n",
       "                                             description  \\\n",
       "0      충청남도 당진시 산업단지 입주 기업 현황입니다.(연번, 단지명, 회사명, 업종명, ...   \n",
       "1      전라남도 강진군 미곡처리장 현황에 대한 데이터로소 시군, 명칭, 소재지, 관리부서,...   \n",
       "2      경상남도 거창군 월별 코로나19 관련 확진자 및 사망자 수 현황 데이터로 월별 확진...   \n",
       "3      상기 데이터는 연도별 주민 1인당 또는 세대 당 부담된  지방세액에 대한 정보로 조...   \n",
       "4      전라남도 보성군 담배소매인지정현황에 관한 공공데이터로 업소명, 지번주소, 도로명주소...   \n",
       "...                                                  ...   \n",
       "94800  구로구의 식품을 제조 또는 가공할 때 기호가치를 향상시키거나 영양가치를 높일목적의 ...   \n",
       "94801  송파구의 컨벤션센터 등 대규모 관광 수요를 유발하는 국제회의를 개최할 수 있는 시설...   \n",
       "94802  중구의 컨벤션센터 등 대규모 관광 수요를 유발하는 국제회의를 개최할 수 있는 시설을...   \n",
       "94803  강남구의 컨벤션센터 등 대규모 관광 수요를 유발하는 국제회의를 개최할 수 있는 시설...   \n",
       "94804  송파구의 숙박 및 휴게 등의 목적으로 이용하는 장소 또는 시설에서 비디오물 시청기자...   \n",
       "\n",
       "                                                     url      data_type  \\\n",
       "0       https://www.data.go.kr/data/15106898/fileData.do            텍스트   \n",
       "1       https://www.data.go.kr/data/15106993/fileData.do            텍스트   \n",
       "2       https://www.data.go.kr/data/15098865/fileData.do            텍스트   \n",
       "3       https://www.data.go.kr/data/15080007/fileData.do            텍스트   \n",
       "4       https://www.data.go.kr/data/15035564/fileData.do            텍스트   \n",
       "...                                                  ...            ...   \n",
       "94800  https://data.seoul.go.kr/dataList/OA-18293/S/1...  SHEET,OpenAPI   \n",
       "94801  https://data.seoul.go.kr/dataList/OA-16990/S/1...  SHEET,OpenAPI   \n",
       "94802  https://data.seoul.go.kr/dataList/OA-16968/S/1...  SHEET,OpenAPI   \n",
       "94803  https://data.seoul.go.kr/dataList/OA-16989/S/1...  SHEET,OpenAPI   \n",
       "94804  https://data.seoul.go.kr/dataList/OA-17365/S/1...  SHEET,OpenAPI   \n",
       "\n",
       "                     source   ori_label ori_source label  \n",
       "0                  충청남도 당진시  산업·통상·중소기업    공공데이터포털  제조소비  \n",
       "1                  전라남도 강진군          농림    공공데이터포털  식품건강  \n",
       "2                  경상남도 거창군          보건    공공데이터포털  보건의료  \n",
       "3                  충청남도 부여군    재정·세제·금융    공공데이터포털  경제금융  \n",
       "4                  전라남도 보성군      일반공공행정    공공데이터포털  행정법률  \n",
       "...                     ...         ...        ...   ...  \n",
       "94800  구로구 스마트도시정책관 빅데이터담당관          보건    서울데이터광장  보건의료  \n",
       "94801  송파구 스마트도시정책관 빅데이터담당관       문화/관광    서울데이터광장  문화관광  \n",
       "94802   중구 스마트도시정책관 빅데이터담당관       문화/관광    서울데이터광장  문화관광  \n",
       "94803  강남구 스마트도시정책관 빅데이터담당관       문화/관광    서울데이터광장  문화관광  \n",
       "94804  송파구 스마트도시정책관 빅데이터담당관       문화/관광    서울데이터광장  문화관광  \n",
       "\n",
       "[94805 rows x 8 columns]"
      ]
     },
     "execution_count": 5,
     "metadata": {},
     "output_type": "execute_result"
    }
   ],
   "source": [
    "data"
   ]
  },
  {
   "cell_type": "code",
   "execution_count": 6,
   "id": "bcdb8ea9",
   "metadata": {},
   "outputs": [],
   "source": [
    "#load description sbert model\n",
    "sents = data['description']\n",
    "#[print(sents[i], \"\\n\") for i in range(5)]\n",
    "sbert = SentenceTransformer('snunlp/KR-SBERT-V40K-klueNLI-augSTS')"
   ]
  },
  {
   "cell_type": "markdown",
   "id": "baa21ed8",
   "metadata": {},
   "source": [
    "### Sample "
   ]
  },
  {
   "cell_type": "code",
   "execution_count": 7,
   "id": "86c42b55",
   "metadata": {},
   "outputs": [
    {
     "data": {
      "text/plain": [
       "768"
      ]
     },
     "execution_count": 7,
     "metadata": {},
     "output_type": "execute_result"
    }
   ],
   "source": [
    "sample = sbert.encode(sents[:5])\n",
    "len(sample[0])"
   ]
  },
  {
   "cell_type": "code",
   "execution_count": 8,
   "id": "badfe10a",
   "metadata": {},
   "outputs": [],
   "source": [
    "snubert_sample_tensor = torch.tensor(sample)\n",
    "torch.save(snubert_sample_tensor, '../data/snubert_sample_tensor.pt')\n"
   ]
  },
  {
   "cell_type": "code",
   "execution_count": 9,
   "id": "cbc1755f",
   "metadata": {},
   "outputs": [
    {
     "data": {
      "text/plain": [
       "tensor([[-0.6379, -0.4988, -0.4288,  ...,  0.6085,  0.3506,  0.7135],\n",
       "        [ 0.3231,  0.2048, -0.2758,  ...,  0.5903,  0.4753, -0.3940],\n",
       "        [ 0.4405, -0.6636,  0.3967,  ..., -0.2820, -0.8777,  0.2145]])"
      ]
     },
     "execution_count": 9,
     "metadata": {},
     "output_type": "execute_result"
    }
   ],
   "source": [
    "#selecting tensor values (if needed)\n",
    "snubert_sample_tensor.index_select(0, torch.tensor(np.arange(3)))"
   ]
  },
  {
   "cell_type": "code",
   "execution_count": 10,
   "id": "055a91e7",
   "metadata": {},
   "outputs": [
    {
     "data": {
      "text/plain": [
       "torch.return_types.sort(\n",
       "values=tensor([[1.0000, 0.4430, 0.4085, 0.3700, 0.3513]]),\n",
       "indices=tensor([[2, 3, 1, 0, 4]]))"
      ]
     },
     "execution_count": 10,
     "metadata": {},
     "output_type": "execute_result"
    }
   ],
   "source": [
    "index_rand = 2\n",
    "similarity_sample = util.cos_sim(sample[index_rand] , snubert_sample_tensor).sort(descending=True)\n",
    "similarity_sample"
   ]
  },
  {
   "cell_type": "code",
   "execution_count": 11,
   "id": "8ea93082",
   "metadata": {},
   "outputs": [
    {
     "data": {
      "text/plain": [
       "tensor([0.4430, 0.4085, 0.3700, 0.3513])"
      ]
     },
     "execution_count": 11,
     "metadata": {},
     "output_type": "execute_result"
    }
   ],
   "source": [
    "similarity_sample.values[0][1:5]"
   ]
  },
  {
   "cell_type": "markdown",
   "id": "cfe398cd",
   "metadata": {},
   "source": [
    "### Actual Data"
   ]
  },
  {
   "cell_type": "code",
   "execution_count": 12,
   "id": "c5c1c81a",
   "metadata": {},
   "outputs": [],
   "source": [
    "index_rand = 2\n",
    "\n",
    "#make and save tensor\n",
    "snubert_des = sbert.encode(sents)\n",
    "snubert_des_tensor = torch.tensor(snubert_des)\n",
    "torch.save(snubert_des_tensor, '../data/snubert_des_tensor_2.pt')\n",
    "\n",
    "\n"
   ]
  },
  {
   "cell_type": "code",
   "execution_count": 13,
   "id": "e3ea545d",
   "metadata": {},
   "outputs": [
    {
     "data": {
      "text/plain": [
       "torch.return_types.sort(\n",
       "values=tensor([[ 1.0000,  0.7405,  0.7179,  ..., -0.0459, -0.0498, -0.0547]]),\n",
       "indices=tensor([[    2,  7638, 19255,  ..., 42052, 55205, 74683]]))"
      ]
     },
     "execution_count": 13,
     "metadata": {},
     "output_type": "execute_result"
    }
   ],
   "source": [
    "similarity = util.cos_sim(snubert_des[index_rand] , snubert_des_tensor).sort(descending=True)\n",
    "similarity"
   ]
  },
  {
   "cell_type": "code",
   "execution_count": 14,
   "id": "f25949cb",
   "metadata": {},
   "outputs": [],
   "source": [
    "len(similarity.values[0])\n",
    "id_ls = similarity.indices[0].tolist() #[1,k+1]"
   ]
  },
  {
   "cell_type": "code",
   "execution_count": 15,
   "id": "de185798",
   "metadata": {},
   "outputs": [
    {
     "data": {
      "text/plain": [
       "'경상남도 거창군_월별 코로나 확진자 현황_20221007'"
      ]
     },
     "execution_count": 15,
     "metadata": {},
     "output_type": "execute_result"
    }
   ],
   "source": [
    "data.iloc[index_rand]['title']"
   ]
  },
  {
   "cell_type": "code",
   "execution_count": 16,
   "id": "5fb73997",
   "metadata": {},
   "outputs": [
    {
     "data": {
      "text/plain": [
       "[7638, 19255, 21080, 5286, 19140]"
      ]
     },
     "execution_count": 16,
     "metadata": {},
     "output_type": "execute_result"
    }
   ],
   "source": [
    "id_ls[1:k+1]"
   ]
  },
  {
   "cell_type": "code",
   "execution_count": 17,
   "id": "04acd91d",
   "metadata": {},
   "outputs": [
    {
     "name": "stdout",
     "output_type": "stream",
     "text": [
      "경상남도 창녕군_코로나19 현황_20220823\n",
      "경상남도 함양군_코로나19 확진자 및 사망자 현황_20220228\n",
      "경상남도 양산시_코로나19 확진자 및 사망자 데이터_20220204\n",
      "경상남도 밀양시_코로나19 감염자 및 사망자 수_20220905\n",
      "경상남도 남해군_코로나확진자_20220331\n"
     ]
    }
   ],
   "source": [
    "for id in id_ls[1:k+1] :\n",
    "    print(data.iloc[id]['title'])"
   ]
  },
  {
   "cell_type": "code",
   "execution_count": 18,
   "id": "e5aab3ce",
   "metadata": {},
   "outputs": [
    {
     "name": "stdout",
     "output_type": "stream",
     "text": [
      "경상남도 창녕군_코로나19 현황_20220823\n",
      "경상남도 함양군_코로나19 확진자 및 사망자 현황_20220228\n",
      "경상남도 양산시_코로나19 확진자 및 사망자 데이터_20220204\n",
      "경상남도 밀양시_코로나19 감염자 및 사망자 수_20220905\n",
      "경상남도 남해군_코로나확진자_20220331\n",
      "전라북도 순창군_코로나 19 확진자 및 사망자 현황_20220401\n",
      "경상남도_거창군_행정마을별세대인구수_20220630\n",
      "경상남도 거창군_관광객수_20220228\n",
      "경상남도 통영시_코로나19 확진자 및 사망자 데이터_20221005\n",
      "경상남도 진주시_코로나19 확진자수 현황_20220228\n"
     ]
    }
   ],
   "source": [
    "for id in id_ls[1:11] :\n",
    "    print(data.iloc[id]['title'])"
   ]
  },
  {
   "cell_type": "code",
   "execution_count": 30,
   "id": "bbd5418b",
   "metadata": {},
   "outputs": [
    {
     "data": {
      "text/plain": [
       "'대전광역시_환경 분쟁 조정 현황'"
      ]
     },
     "execution_count": 30,
     "metadata": {},
     "output_type": "execute_result"
    }
   ],
   "source": [
    "data.iloc[77401]['title']"
   ]
  },
  {
   "cell_type": "code",
   "execution_count": 28,
   "id": "053bcf50",
   "metadata": {},
   "outputs": [
    {
     "name": "stdout",
     "output_type": "stream",
     "text": [
      "환경부 화학물질안전원_화학 사고 정보_20220531\n",
      "충청남도_민원현황_20220731\n",
      "울산시설공단_민원처리현황_20220831\n",
      "한국남동발전㈜_환경관련 민원사항 현황_12/31/2020\n",
      "대전광역시_국민신문고 접수 처리현황(민원분야)_20220731\n",
      "환경부 화학물질안전원_화학사고정보\n",
      "대전광역시 동구_대기배출시설 사업장 현황_20220803\n",
      "대전광역시 유성구_대기배출사업장_20220405\n",
      "서울시 환경분쟁조정 사건 진행 현황\n",
      "서울특별시_환경분쟁조정 사건 진행 현황\n"
     ]
    }
   ],
   "source": [
    "# 중복 데이터 관련\n",
    "# https://github.com/Paul-scpark/AI-dev-course-prj/issues/24\n",
    "sim_dupe = util.cos_sim(snubert_des[77401], snubert_des_tensor).sort(descending=True)\n",
    "sim_dupe\n",
    "id_ls = sim_dupe.indices[0].tolist() #[1,k+1]\n",
    "\n",
    "for id in id_ls[1:11] :\n",
    "    print(data.iloc[id]['title'])"
   ]
  },
  {
   "cell_type": "code",
   "execution_count": 31,
   "id": "6dd313ed",
   "metadata": {},
   "outputs": [
    {
     "name": "stdout",
     "output_type": "stream",
     "text": [
      "경찰청 경상남도경찰청_자동차 운전면허 학원 현황_20220630\n"
     ]
    }
   ],
   "source": [
    "print(data.iloc[10101]['title'])\n"
   ]
  },
  {
   "cell_type": "code",
   "execution_count": 39,
   "id": "312e8db2",
   "metadata": {},
   "outputs": [
    {
     "name": "stdout",
     "output_type": "stream",
     "text": [
      "Recommendations for :  인천광역시 서구_공기 조화 제조업체_20220919 \n",
      " 인천광역시 서구 공기 조화 제조업체 현황 (회사명, 생산품, 업종명, 대표주소, 전화번호, 팩스번호 등) 에 관한 데이터입니다.\n",
      "인천광역시 서구_제조업체_20220901 \n",
      " 인천광역시 서구 제조업체 현황 (회사명, 생산품, 업종명, 대표주소, 전화번호, 팩스번호 등) 에 관한 데이터입니다.\n",
      "인천광역시 서구_승강기 제조업체_20220919 \n",
      " 인천광역시 서구 승강기 제조업체 현황 (회사명, 생산품, 업종명, 대표주소, 전화번호, 팩스번호 등) 에 관한 데이터입니다.\n",
      "인천광역시 서구_골판지 제조업체_20220919 \n",
      " 인천광역시 서구 골판지 제조업체 현황 (회사명, 생산품, 업종명, 대표주소, 전화번호, 팩스번호 등) 에 관한 데이터입니다.\n",
      "인천광역시 서구_기체 여과기 제조업체_20220919 \n",
      " 인천광역시 서구 기체 여과기 제조업체 현황 (회사명, 생산품, 업종명, 대표주소, 전화번호, 팩스번호 등) 에 관한 데이터입니다.\n",
      "인천광역시 서구_가구 제조업체_20220919 \n",
      " 인천광역시 서구 가구 제조업체 현황 (회사명, 생산품, 업종명, 대표주소, 전화번호, 팩스번호 등) 에 관한 데이터입니다.\n",
      "인천광역시 서구_간판 및 광고물 제조업체_20220919 \n",
      " 인천광역시 서구 간판 및 광고물 제조업체 현황 (회사명, 생산품, 업종명, 대표주소, 전화번호, 팩스번호 등) 에 관한 데이터입니다.\n",
      "인천광역시 서구_근무복 및 작업복 제조업체_20220919 \n",
      " 인천광역시 서구 근무복 및 작업복 제조업체 현황 (회사명, 생산품, 업종명, 대표주소, 전화번호, 팩스번호 등) 에 관한 데이터입니다.\n",
      "인천광역시 서구_구조용 금속판 제조업체_20220919 \n",
      " 인천광역시 서구 구조용 금속판 제조업체 현황 (회사명, 생산품, 업종명, 대표주소, 전화번호, 팩스번호 등) 에 관한 데이터입니다.\n",
      "인천광역시 서구_도금업 제조업체_20220919 \n",
      " 인천광역시 서구 도금업 제조업체 현황 (회사명, 생산품, 업종명, 대표주소, 전화번호, 팩스번호 등) 에 관한 데이터입니다.\n",
      "===============\n",
      "Recommendations for :  대구광역시 서구_동물판매업 현황_20220731 \n",
      " 대구광역시 서구 관내의 동물판매업 현황입니다. 2022. 7. 31. 기준 자료이며, 영업장 명칭과 소재지 주소(도로명 주소)의 데이터를 포함하고 있습니다.\n",
      "인천광역시 서구_동물판매업소_20210831 \n",
      " 인천광역시 서구에 위치한  동물판매업소 현황(사업장명칭, 소재지(지번), 소재지(도로명))을 포함한 데이터 파일입니다.\n",
      "대구광역시 서구_동물병원_10/20/2021 \n",
      " 대구광역시 서구 동물병원 현황 데이터입니다. 대구광역시 서구 동물병원의 업소명, 전화번호, 사업장소재지의 지번·도로명 데이터입니다.\n",
      "대구광역시 서구_안전상비의약품판매업소 현황_20220731 \n",
      " 대구광역시 서구 관내의 안전상비의약품판매업소 현황 데이터입니다. 2022. 7. 31. 기준 데이터로 판매점포명, 주소, 전화번호를 포함한 자료입니다.\n",
      "광주광역시_동구_동물관련정보_20220712 \n",
      " 이 데이터는 약사법 제20조(약국개설) 및 동물 약국 및 동물용 의약품등의 제조업,수입자와 판매업의 시설 기준령에 따릅니다.광주광역시 동구 관내 동물병원, 동물약국 정보제공(업소명, 소재지도로명, 전화번호)를 확인할 수 있습니다.\n",
      "인천광역시 서구_동물등록 대행업체_20220719 \n",
      " 인천광역시 서구 관내 동물등록 대행업체 현황에 대한 데이터로 연번, 업소명, 사업장소재지, 전화번호 항목을 제공합니다.\n",
      "인천광역시 서구_동물수입업_20220725 \n",
      " 인천광역시 서구의 동물수입업체의 사업장명칭, 소재지주소, 데이터기준일, 데이터 담당부서, 부서 전화번호 등의 데이터를 포함하고 있습니다.\n",
      "대구광역시_동구_동물병원_20210503 \n",
      " 대구광역시 동구 관내 동물관련 병원 현황 데이터입니다. 이 데이터는 업소명, 위치, 연락처 등의 정보를 포함하고 있습니다.\n",
      "인천광역시 남동구_동물관련업현황_20220811 \n",
      " 인천광역시 남동구 동물관련업 현황에 데이터로 사업장 명칭, 영업의 내용, 소재지주소, 소재지번호 항목을 제공합니다.\n",
      "인천광역시 서구_동물위탁업_20220905 \n",
      " 인천광역시 서구 동물위탁업에 대한 데이터로 사업장명칭, 소재지주소, 데이터담당부서 등의 정보가 포함되어 있습니다.\n",
      "===============\n",
      "Recommendations for :  한국장학재단_학자금지원구간 산정지침 \n",
      " 차년도 1학기 학자금 지원구간 산정지침입니다. 국가장학금 제도 이용 및 관련 업무 수행에 참고하시기 바라며 연중 수정될 수 있으니, 정확한 정보는 한국장학재단에 문의해주시기 바랍니다.\n",
      "한국장학재단_국가장학금 시행계획 \n",
      " 당해연도 1학기 국가장학금 시행계획 URL 주소입니다.(추진배경, 세부 지원 계획, 사업 추진 체계, 사업관리, 추진일정 등)* 국가장학금 제도 이용 및 관련 업무 수행에 참고하시기 바라며 연중 수정될 수 있으니, 정확한 정보는 한국장학재단에 문의해주시기 바랍니다.\n",
      "한국장학재단_학자금 지원구간 경곗값_20220601 \n",
      " 전년도 2학기 및 당해년도 1학기 학자금 지원구간 소득인정액 경곗값 정보입니다.* 해당 데이터는 실무 운영을 위한 내부 시스템 데이터로 외부에 공시되는 정보와 다를 수 있으며, 정확한 정보는 한국장학재단에 문의해주시기 바랍니다.(기존 \"소득분위\", \"소득구간\" 등의 용어가 \"학자금 지원구간\"으로 변경되었습니다.)\n",
      "한국장학재단_공통포털_용어사전기본_20191231 \n",
      " 학자금지원 관련 용어 안내입니다.(용어명, 용어 내용)* 해당 데이터는 실무 운영을 위한 내부 시스템 데이터로 외부에 공시되는 정보와 다를 수 있으며, 정확한 정보는 한국장학재단에 문의해주시기 바랍니다.\n",
      "한국장학재단_상품관리_상품기본_20191231 \n",
      " 학자금 유형별 명칭, 영어명칭 정보입니다.* 해당 데이터는 실무 운영을 위한 내부 시스템 데이터로 외부에 공시되는 정보와 다를 수 있으며, 정확한 정보는 한국장학재단에 문의해주시기 바랍니다.\n",
      "한국장학재단_장학기본정보관리_상품별가능대학기본_20191231 \n",
      " 2019년도 장학 유형별 지원대학 정보입니다.(상품코드, 장학상품 유형코드, 대학코드, 대학가능여부 등) * 해당 데이터는 실무 운영을 위한 내부 시스템 데이터로 외부에 공시되는 정보와 다를 수 있으며, 정확한 정보는 한국장학재단에 문의해주시기 바랍니다.\n",
      "한국장학재단_장학기본정보관리_장학일정기본_20191231 \n",
      " 장학 연도학기별 업무시작, 종료일 기본정보입니다.* 해당 데이터는 실무 운영을 위한 내부 시스템 데이터로 외부에 공시되는 정보와 다를 수 있으며, 정확한 정보는 한국장학재단에 문의해주시기 바랍니다.\n",
      "한국장학재단_장학기본정보관리_장학일정상세_20191231 \n",
      " 장학 연도학기별 업무시작, 종료일 정보입니다. * 해당 데이터는 실무 운영을 위한 내부 시스템 데이터로 외부에 공시되는 정보와 다를 수 있으며, 정확한 정보는 한국장학재단에 문의해주시기 바랍니다.\n",
      "한국장학재단_장학기본정보관리_상품별장학금수혜횟수기준_20191231 \n",
      " 장학 상품별 최대 수혜횟수 정보(상품명, 학과학제구분, 최대 수혜 횟수 등)입니다.* 해당 데이터는 실무 운영을 위한 내부 시스템 데이터로 외부에 공시되는 정보와 다를 수 있으며, 정확한 정보는 한국장학재단에 문의해주시기 바랍니다.\n",
      "한국장학재단_운영관리_대학기본_20191231 \n",
      " 대학 홈페이지 정보입니다.(학교명, 홈페이지)* 해당 데이터는 실무 운영을 위한 내부 시스템 데이터로 외부에 공시되는 정보와 다를 수 있으며, 정확한 정보는 한국장학재단에 문의해주시기 바랍니다.\n",
      "===============\n",
      "Recommendations for :  한국연구재단_KCI 참고문헌 서비스 \n",
      " 한국연구재단 내 한국학술지인용색인(KCI) 정보입니다.  참고문헌 공동저자, 참고문헌 연동, 참고문헌 관리 정보를 가지고 있습니다\n",
      "한국연구재단_KCI 논문정보서비스 \n",
      " 한국연구재단 내 한국학술지인용색인(KCI)시스템 정보입니다.  한국학술지인용색인(KCI) 내에서 학술지 본문, 저자, 그림관리 , 논문 저자 , 원문 공개 논문수 등을 파악할수 있습니다\n",
      "한국교육학술정보원_RISS 원문공유_09/30/2020 \n",
      " 한국교육학술정보원이 운영하는 RISS 원문공유(기관코드,조사년도,학위논문건수,학술논문건수) 정보를 제공합니다.\n",
      "한국연구재단_KCI 학술지정보서비스 \n",
      " 한국연구재단에서 보유하고있는 한국학술지인용색인(KCI) 시스템 정보입니다.  학술지 연구분야,  증명서 발급용 등재이력 조회,  학술지통합분리이력 조회, 학술지 발간현황 정보 조회 등  정보를 가지고 있습니다.\n",
      "한국연구재단_논문, 저역서 저자 정보_10/19/2021 \n",
      " 한국연구재단이 보유하고있는 기초학문자료센터 시스템에 있는 논문, 저역서 저자 정보 입니다. 대표 데이터로는 저자SEQ_NUM, 저자구분 등이 있습니다.\n",
      "한국연구재단_KCI논문정보_20220225 \n",
      " 한국연구재단이 보유하고 있는 한국학술지인용색인(KCI)에서의 논문데이터를 나타내고 있습니다. 컬럼명은 논문명, 공동저자, 학술지명, ISSN, 발행년도 등으로  다양한 데이터를 가지고 있습니다\n",
      "한국연구재단_KCI논문정보 \n",
      " 한국연구재단이 가지고 있는 한국학술지인용색인(KCI)에 대한 정보입니다.  한국연구재단이 가지고 있는 논문에 대한  기본정보를 파악할 수 있습니다\n",
      "한국산업기술진흥원_KIAT통합사업관리_NTIS 논문_12/31/2020 \n",
      " 한국산업기술진흥원의 통합사업관리 시스템에 등재된 정보입니다.  NTIS 논문 정보로 성과발생년도, 학술지명, 논문명, 주저자명, SCI 구분코드 등의 항목을 제공합니다.\n",
      "한국연구재단_학술대회운영조직구성원_10/21/2021 \n",
      " 한국연구재단이 보유하고 있는 온라인논문투고심사시스템에 있는학술대회운영조직구성원 데이터 입니다. 대표 데이터는 기관명, 학술대회 아이디 등이 있습니다.\n",
      "한국연구재단_KCI 기관 정보 서비스 \n",
      " 한국연구재단이 소유하고 있는 한국학술지인용색인(KCI) 정보입니다.  세부내용은  기관회원, 회원현황, 자격, 연구소 기금 정보 등이 있습니다\n",
      "===============\n",
      "Recommendations for :  울산항만공사_외항컨테이너 국가별 통계 \n",
      " 울산항만공사 외항컨테이너 정보입니다.(국가별, 지역별, 규격별, OD-시설별)\n",
      "울산항만공사_외항컨테이너 OD-시설별 통계 \n",
      " 울산항만공사 외항컨테이너 정보입니다.(국가별, 지역별, 규격별, OD-시설별)\n",
      "울산항만공사_외항컨테이너 지역별 통계 \n",
      " 울산항만공사 외항컨테이너 정보입니다.(국가별, 지역별, 규격별, OD-시설별)\n",
      "울산항만공사_외항컨테이너 국가별 통계 \n",
      " 울산항만공사 외항컨테이너 정보입니다.(국가별, 지역별, 규격별, OD-시설별)\n",
      "울산항만공사_외항화물 국가별 통계 \n",
      " 울산항만공사 외항화물 통계 정보입니다. (국가별, 지역별, 부두별)\n",
      "울산항만공사_외항화물 지역별 통계 \n",
      " 울산항만공사 외항화물 통계 정보입니다. (국가별, 지역별, 부두별)\n",
      "울산항만공사_외항화물 부두별 통계 \n",
      " 울산항만공사 외항화물 통계 정보입니다. (국가별, 지역별, 부두별)\n",
      "울산항만공사_외항선박 지역별 선종별 통계 \n",
      " 울산항만공사 외항선박 정보입니다.(국가별, 지역별, 부두별, 선종별)\n",
      "울산항만공사_외항선박 부두별 선종별 통계 \n",
      " 울산항만공사 외항선박 정보입니다.(국가별, 지역별, 부두별, 선종별)\n",
      "울산항만공사_외항선박 국가별 통계 \n",
      " 울산항만공사 외항선박 정보입니다.(국가별, 지역별, 부두별, 선종별)\n",
      "===============\n"
     ]
    }
   ],
   "source": [
    "n,k = len(data), 5 #n=94805\n",
    "\n",
    "#inspect top 5 \n",
    "for idx in random.sample(range(n),k) :\n",
    "    similarity = util.cos_sim(snubert_des[idx] , snubert_des_tensor).sort(descending=True)\n",
    "    id_ls = similarity.indices[0].tolist() #[1,k+1]\n",
    "\n",
    "    print(\"Recommendations for : \", data.iloc[idx]['title'],'\\n',data.iloc[idx]['description'])\n",
    "\n",
    "    for id in id_ls[1:10] :\n",
    "        print(data.iloc[id]['title'], '\\n',data.iloc[id]['description'])\n",
    "    print(\"===============\")"
   ]
  },
  {
   "cell_type": "code",
   "execution_count": null,
   "id": "185e5241",
   "metadata": {},
   "outputs": [],
   "source": [
    "#"
   ]
  }
 ],
 "metadata": {
  "kernelspec": {
   "display_name": "Python 3 (ipykernel)",
   "language": "python",
   "name": "python3"
  },
  "language_info": {
   "codemirror_mode": {
    "name": "ipython",
    "version": 3
   },
   "file_extension": ".py",
   "mimetype": "text/x-python",
   "name": "python",
   "nbconvert_exporter": "python",
   "pygments_lexer": "ipython3",
   "version": "3.8.5"
  }
 },
 "nbformat": 4,
 "nbformat_minor": 5
}
